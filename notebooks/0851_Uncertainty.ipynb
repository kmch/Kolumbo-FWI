{
 "cells": [
  {
   "cell_type": "markdown",
   "metadata": {},
   "source": [
    "See the parent `Discussion.ipynb` notebook."
   ]
  },
  {
   "cell_type": "markdown",
   "metadata": {
    "heading_collapsed": true,
    "slideshow": {
     "slide_type": "skip"
    }
   },
   "source": [
    "#### Notebook config"
   ]
  },
  {
   "cell_type": "markdown",
   "metadata": {
    "heading_collapsed": true,
    "hidden": true,
    "slideshow": {
     "slide_type": "skip"
    }
   },
   "source": [
    "##### Loading modules"
   ]
  },
  {
   "cell_type": "code",
   "execution_count": 16,
   "metadata": {
    "code_folding": [
     0
    ],
    "hidden": true,
    "run_control": {
     "marked": true
    }
   },
   "outputs": [
    {
     "name": "stdout",
     "output_type": "stream",
     "text": [
      "Created `%mi` as an alias for `%matplotlib inline`.\n",
      "Created `%mn` as an alias for `%matplotlib notebook`.\n"
     ]
    }
   ],
   "source": [
    "# %load ../../software/fullwavepy/fullwavepy/config/jupyter.py \n",
    "from fullwavepy import * # Load modules imported in fullwavepy/__init__.py\n",
    "# -----------------------------------------------------------------------------\n",
    "# Set aliases of frequently used jupyter magic commands\n",
    "# -----------------------------------------------------------------------------\n",
    "%alias_magic mi matplotlib -p inline\n",
    "%alias_magic mn matplotlib -p notebook\n",
    "# -----------------------------------------------------------------------------\n",
    "# Set matplotlib backend\n",
    "# -----------------------------------------------------------------------------\n",
    "# non-interactive plots displayed in a notebook cell\n",
    "%matplotlib inline\n",
    "# interactive plots displayed in a notebook cell\n",
    "# %matplotlib notebook (interactive version)\n",
    "# -----------------------------------------------------------------------------\n",
    "# Set matplotlib style\n",
    "# ----------------------------------------------------------------------------\n",
    "plt.style.reload_library()\n",
    "# a combined style (right overwrites left wherever they overlap):\n",
    "plt.style.use(['default', 'ggplot']) #, 'ggplot', 'kmc_test']) # 'dark_background'\n",
    "# print(plt.style.available) \n",
    "# -----------------------------------------------------------------------------\n",
    "# Configure logging\n",
    "# -----------------------------------------------------------------------------\n",
    "# Set up loggers, handlers and load the log_lvl function\n",
    "from fullwavepy.config.logging import *\n",
    "# -----------------------------------------------------------------------------\n",
    "# Set level of log-messages\n",
    "log_lvl(INFO) \n",
    "# Other options in order of increasing importance and \n",
    "# decreasing verbosity:\n",
    "# TRACE, DEBUG, INFO, WARNING, ERROR, CRITICAL\n",
    "# or using integers: 0, 10, 20, 30, 40, 50, respectively\n",
    "# -----------------------------------------------------------------------------\n",
    "# Autocompleting\n",
    "# -----------------------------------------------------------------------------\n",
    "#  Not sure if it works\n",
    "%config IPCompleter.greedy=True \n",
    "# -----------------------------------------------------------------------------\n",
    "# Automatically reload modules before execution\n",
    "#%load_ext autoreload\n",
    "#%autoreload 2"
   ]
  },
  {
   "cell_type": "code",
   "execution_count": 17,
   "metadata": {
    "hidden": true,
    "run_control": {
     "marked": true
    }
   },
   "outputs": [],
   "source": [
    "from arrau import * # this overwrites `ndat`"
   ]
  },
  {
   "cell_type": "markdown",
   "metadata": {
    "heading_collapsed": true,
    "hidden": true
   },
   "source": [
    "##### Plot config"
   ]
  },
  {
   "cell_type": "code",
   "execution_count": 18,
   "metadata": {
    "code_folding": [],
    "hidden": true,
    "run_control": {
     "marked": true
    }
   },
   "outputs": [],
   "source": [
    "plt.style.use(['default', 'seaborn-dark']) #, 'dark_background'])\n",
    "import matplotlib\n",
    "font = {'family' : 'sans-serif', # serif\n",
    "        'weight' : 'normal', # bold\n",
    "        'size'   : 12}\n",
    "matplotlib.rc('font', **font)"
   ]
  },
  {
   "cell_type": "markdown",
   "metadata": {
    "heading_collapsed": true,
    "hidden": true
   },
   "source": [
    "##### Paths\n"
   ]
  },
  {
   "cell_type": "code",
   "execution_count": 8,
   "metadata": {
    "hidden": true,
    "run_control": {
     "marked": false
    }
   },
   "outputs": [],
   "source": [
    "path_fig = '../../figures/ch_kol/'\n",
    "path_eph = '/home/kmc3817/rds_home/my_ephemeral/PROJECTS/ch_kol/'"
   ]
  },
  {
   "cell_type": "markdown",
   "metadata": {
    "heading_collapsed": true,
    "hidden": true
   },
   "source": [
    "##### Loading existing projects\n"
   ]
  },
  {
   "cell_type": "code",
   "execution_count": 19,
   "metadata": {
    "code_folding": [
     0
    ],
    "hidden": true,
    "run_control": {
     "marked": true
    }
   },
   "outputs": [],
   "source": [
    "# Box \n",
    "# in seconds\n",
    "dt = 0.0025  \n",
    "ns = 2000\n",
    "# in metres\n",
    "dx = 50      \n",
    "x1 = +8.0e3     \n",
    "x2 = +2.5e4    \n",
    "y1 = -3.0e3    \n",
    "y2 = +1.5e4    \n",
    "z1 = 0 \n",
    "z2 = +4.0e3    \n",
    "box = [x1, x2, y1, y2, z1, z2]\n",
    "# bigger_box = box\n",
    "geom_bigger = dict(dt=dt, ns=ns, dx=dx, box=box)"
   ]
  },
  {
   "cell_type": "code",
   "execution_count": 20,
   "metadata": {
    "hidden": true,
    "run_control": {
     "marked": true
    }
   },
   "outputs": [
    {
     "name": "stdout",
     "output_type": "stream",
     "text": [
      "Content of  /home/kmc3817/c_projects_phd/fwi_sant_kolumbo//p14/p14-Info.txt : \n",
      " cat: /home/kmc3817/c_projects_phd/fwi_sant_kolumbo//p14/p14-Info.txt: No such file or directory\n",
      "\n"
     ]
    }
   ],
   "source": [
    "lll(40)\n",
    "path = '/home/kmc3817/c_projects_phd/fwi_sant_kolumbo/'\n",
    "p14 = ProjInv('p14', path=path, **geom_bigger) # Lasso selected."
   ]
  },
  {
   "cell_type": "markdown",
   "metadata": {
    "heading_collapsed": true,
    "hidden": true
   },
   "source": [
    "##### Loading PROTEUS\n"
   ]
  },
  {
   "cell_type": "code",
   "execution_count": 21,
   "metadata": {
    "hidden": true,
    "run_control": {
     "marked": true
    }
   },
   "outputs": [],
   "source": [
    "xp = PROTEUS()"
   ]
  },
  {
   "cell_type": "markdown",
   "metadata": {},
   "source": [
    "# Modelling assumptions\n"
   ]
  },
  {
   "cell_type": "markdown",
   "metadata": {},
   "source": [
    "See the manuscript."
   ]
  },
  {
   "cell_type": "markdown",
   "metadata": {},
   "source": [
    "# Resolution analysis\n"
   ]
  },
  {
   "cell_type": "markdown",
   "metadata": {},
   "source": [
    "See the manuscript. We will quantify it with synthetic anomaly recovery tests - see `08B_Anomaly_recovery.ipynb`."
   ]
  },
  {
   "cell_type": "markdown",
   "metadata": {},
   "source": [
    "# Robustness of recovery"
   ]
  },
  {
   "cell_type": "markdown",
   "metadata": {},
   "source": [
    "We will quantify it with bootstrapping - see `08D_Bootstrap.ipynb`."
   ]
  },
  {
   "cell_type": "markdown",
   "metadata": {},
   "source": [
    "# Fidelity of recovery"
   ]
  },
  {
   "cell_type": "markdown",
   "metadata": {},
   "source": [
    "We will quantify it with synthetic anomaly recovery tests - see `08B_Anomaly_recovery.ipynb`."
   ]
  },
  {
   "cell_type": "markdown",
   "metadata": {},
   "source": [
    "# ...\n"
   ]
  }
 ],
 "metadata": {
  "kernelspec": {
   "display_name": "Python 3",
   "language": "python",
   "name": "python3"
  },
  "language_info": {
   "codemirror_mode": {
    "name": "ipython",
    "version": 3
   },
   "file_extension": ".py",
   "mimetype": "text/x-python",
   "name": "python",
   "nbconvert_exporter": "python",
   "pygments_lexer": "ipython3",
   "version": "3.5.2"
  },
  "latex_envs": {
   "LaTeX_envs_menu_present": true,
   "autoclose": false,
   "autocomplete": true,
   "bibliofile": "biblio.bib",
   "cite_by": "apalike",
   "current_citInitial": 1,
   "eqLabelWithNumbers": true,
   "eqNumInitial": 1,
   "hotkeys": {
    "equation": "Ctrl-E",
    "itemize": "Ctrl-I"
   },
   "labels_anchors": false,
   "latex_user_defs": false,
   "report_style_numbering": false,
   "user_envs_cfg": false
  },
  "toc": {
   "base_numbering": 1,
   "nav_menu": {},
   "number_sections": false,
   "sideBar": false,
   "skip_h1_title": false,
   "title_cell": "Table of Contents",
   "title_sidebar": "Contents",
   "toc_cell": false,
   "toc_position": {},
   "toc_section_display": true,
   "toc_window_display": false
  }
 },
 "nbformat": 4,
 "nbformat_minor": 2
}
