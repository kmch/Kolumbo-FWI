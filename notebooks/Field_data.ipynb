{
 "cells": [
  {
   "cell_type": "markdown",
   "metadata": {},
   "source": [
    "See `../ch07_Input_prep/072_Observed_data.ipynb` for data processing."
   ]
  },
  {
   "cell_type": "markdown",
   "metadata": {
    "heading_collapsed": true,
    "slideshow": {
     "slide_type": "skip"
    }
   },
   "source": [
    "#### Notebook config"
   ]
  },
  {
   "cell_type": "code",
   "execution_count": 1,
   "metadata": {
    "code_folding": [],
    "hidden": true,
    "run_control": {
     "marked": true
    }
   },
   "outputs": [
    {
     "name": "stdout",
     "output_type": "stream",
     "text": [
      "Created `%mi` as an alias for `%matplotlib inline`.\n",
      "Created `%mn` as an alias for `%matplotlib notebook`.\n"
     ]
    }
   ],
   "source": [
    "# %load ../../software/fullwavepy/fullwavepy/config/jupyter.py \n",
    "from fullwavepy import * # Load modules imported in fullwavepy/__init__.py\n",
    "# -----------------------------------------------------------------------------\n",
    "# Set aliases of frequently used jupyter magic commands\n",
    "# -----------------------------------------------------------------------------\n",
    "%alias_magic mi matplotlib -p inline\n",
    "%alias_magic mn matplotlib -p notebook\n",
    "# -----------------------------------------------------------------------------\n",
    "# Set matplotlib backend\n",
    "# -----------------------------------------------------------------------------\n",
    "# non-interactive plots displayed in a notebook cell\n",
    "%matplotlib inline\n",
    "# interactive plots displayed in a notebook cell\n",
    "# %matplotlib notebook (interactive version)\n",
    "# -----------------------------------------------------------------------------\n",
    "# Set matplotlib style\n",
    "# ----------------------------------------------------------------------------\n",
    "plt.style.reload_library()\n",
    "# a combined style (right overwrites left wherever they overlap):\n",
    "plt.style.use(['default'])\n",
    "# print(plt.style.available) \n",
    "# -----------------------------------------------------------------------------\n",
    "# Configure logging\n",
    "# -----------------------------------------------------------------------------\n",
    "# Set up loggers, handlers and load the log_lvl function\n",
    "from fullwavepy.config.logging import *\n",
    "# -----------------------------------------------------------------------------\n",
    "# Set level of log-messages\n",
    "log_lvl(INFO) \n",
    "# Other options in order of increasing importance and \n",
    "# decreasing verbosity:\n",
    "# TRACE, DEBUG, INFO, WARNING, ERROR, CRITICAL\n",
    "# or using integers: 0, 10, 20, 30, 40, 50, respectively\n",
    "# -----------------------------------------------------------------------------\n",
    "# Autocompleting\n",
    "# -----------------------------------------------------------------------------\n",
    "#  Not sure if it works\n",
    "%config IPCompleter.greedy=True \n",
    "# -----------------------------------------------------------------------------\n",
    "# Automatically reload modules before execution\n",
    "#%load_ext autoreload\n",
    "#%autoreload 2"
   ]
  },
  {
   "cell_type": "markdown",
   "metadata": {
    "hidden": true,
    "slideshow": {
     "slide_type": "skip"
    }
   },
   "source": [
    "##### Loading extra modules"
   ]
  },
  {
   "cell_type": "code",
   "execution_count": 2,
   "metadata": {
    "hidden": true,
    "run_control": {
     "marked": true
    }
   },
   "outputs": [],
   "source": [
    "import pandas as pd\n",
    "from fullwavepy.seismic.proteus import PROTEUS"
   ]
  },
  {
   "cell_type": "markdown",
   "metadata": {
    "heading_collapsed": true,
    "hidden": true,
    "slideshow": {
     "slide_type": "skip"
    }
   },
   "source": [
    "##### Testing the `seismic` package"
   ]
  },
  {
   "cell_type": "code",
   "execution_count": 14,
   "metadata": {
    "hidden": true,
    "run_control": {
     "marked": false
    }
   },
   "outputs": [
    {
     "name": "stdout",
     "output_type": "stream",
     "text": [
      "test_read_metadata (fullwavepy.seismic.test.test_exps.TestPROTEUS) ... ok\n",
      "\n",
      "----------------------------------------------------------------------\n",
      "Ran 1 test in 0.051s\n",
      "\n",
      "OK\n"
     ]
    }
   ],
   "source": [
    "!python3 -m unittest fullwavepy.seismic.test.test_exps -v"
   ]
  },
  {
   "cell_type": "code",
   "execution_count": 31,
   "metadata": {
    "hidden": true,
    "run_control": {
     "marked": false
    }
   },
   "outputs": [
    {
     "name": "stdout",
     "output_type": "stream",
     "text": [
      "test_init (fullwavepy.seismic.test.test_metadata.TestBox3d) ... ok\r\n",
      "\r\n",
      "----------------------------------------------------------------------\r\n",
      "Ran 1 test in 0.000s\r\n",
      "\r\n",
      "OK\r\n"
     ]
    }
   ],
   "source": [
    "!python3 -m unittest fullwavepy.seismic.test.test_metadata -v"
   ]
  },
  {
   "cell_type": "code",
   "execution_count": 80,
   "metadata": {
    "hidden": true,
    "run_control": {
     "marked": false
    }
   },
   "outputs": [
    {
     "name": "stdout",
     "output_type": "stream",
     "text": [
      "test_init (fullwavepy.seismic.test.test_data.TestDataSet) ... ok\r\n",
      "\r\n",
      "----------------------------------------------------------------------\r\n",
      "Ran 1 test in 0.000s\r\n",
      "\r\n",
      "OK\r\n"
     ]
    }
   ],
   "source": [
    "!python3 -m unittest fullwavepy.seismic.test.test_data -v"
   ]
  },
  {
   "cell_type": "markdown",
   "metadata": {
    "heading_collapsed": true,
    "slideshow": {
     "slide_type": "skip"
    }
   },
   "source": [
    "# Pre-processing"
   ]
  },
  {
   "cell_type": "markdown",
   "metadata": {
    "heading_collapsed": true,
    "hidden": true
   },
   "source": [
    "## Data format"
   ]
  },
  {
   "cell_type": "markdown",
   "metadata": {
    "heading_collapsed": true,
    "hidden": true
   },
   "source": [
    "#### File-name format"
   ]
  },
  {
   "cell_type": "code",
   "execution_count": 31,
   "metadata": {
    "hidden": true,
    "run_control": {
     "marked": false
    }
   },
   "outputs": [
    {
     "data": {
      "text/plain": [
       "'/home/kmc3817/heavy_PhD/DATA/Santorini_2015/seismic/land/Santorini/segy_local_coords//MGL1521_L801_1.sgy'"
      ]
     },
     "execution_count": 31,
     "metadata": {},
     "output_type": "execute_result"
    }
   ],
   "source": [
    "exp.dataset['lanvz']['801'].fname"
   ]
  },
  {
   "cell_type": "code",
   "execution_count": 29,
   "metadata": {
    "hidden": true,
    "run_control": {
     "marked": false
    }
   },
   "outputs": [
    {
     "data": {
      "text/plain": [
       "'/home/kmc3817/heavy_PhD/DATA/Santorini_2015/seismic/OBS/segy_local_coords//MGL1521_S101_1.sgy'"
      ]
     },
     "execution_count": 29,
     "metadata": {},
     "output_type": "execute_result"
    }
   ],
   "source": [
    "exp.dataset['obsvz']['101'].fname"
   ]
  },
  {
   "cell_type": "code",
   "execution_count": 18,
   "metadata": {
    "hidden": true,
    "run_control": {
     "marked": false
    }
   },
   "outputs": [
    {
     "data": {
      "text/plain": [
       "'/home/kmc3817/heavy_PhD/DATA/Santorini_2015/seismic/OBS/segy_local_coords//MGL1521_S101_4.sgy'"
      ]
     },
     "execution_count": 18,
     "metadata": {},
     "output_type": "execute_result"
    }
   ],
   "source": [
    "exp.dataset['obshy']['101'].fname"
   ]
  },
  {
   "cell_type": "markdown",
   "metadata": {
    "heading_collapsed": true,
    "hidden": true
   },
   "source": [
    "#### OBS data SEGY headers"
   ]
  },
  {
   "cell_type": "code",
   "execution_count": 32,
   "metadata": {
    "hidden": true,
    "run_control": {
     "marked": false
    }
   },
   "outputs": [
    {
     "name": "stdout",
     "output_type": "stream",
     "text": [
      "3200+0 records in\n",
      "6+1 records out\n",
      "3200 bytes (3.2 kB, 3.1 KiB) copied, 0.00833137 s, 384 kB/s\n",
      "\n",
      "14231 traces:\n",
      "tracl    1 14231 (1 - 14231)\n",
      "tracr    1 14231 (1 - 14231)\n",
      "fldr     9882 46337 (9882 - 46337)\n",
      "tracf    4101\n",
      "ep       1 60 (4 - 33)\n",
      "trid     1\n",
      "offset   86 81658 (38344 - 43117)\n",
      "gelev    458\n",
      "selev    -12\n",
      "sdepth   12\n",
      "swdep    18 1273 (744 - 435)\n",
      "gwdep    458\n",
      "scalel   1\n",
      "scalco   1\n",
      "sx       -57515 60987 (60987 - -16327)\n",
      "sy       -11369 28177 (17709 - -1028)\n",
      "gx       22644\n",
      "gy       17418\n",
      "counit   1\n",
      "tstat    17\n",
      "ns       12000\n",
      "dt       5000\n",
      "gain     1\n",
      "igc      16\n",
      "year     2015\n",
      "day      327 341 (327 - 341)\n",
      "hour     0 23 (5 - 14)\n",
      "minute   0 59 (34 - 4)\n",
      "sec      0 59 (5 - 36)\n",
      "timbas   0 999 (95 - 428)\n",
      "ntr      14231\n",
      "\n",
      "Shot coordinate limits:\n",
      "\tNorth(-36820,28177) South(-5596,-11369) East(60987,17709) West(-57515,5507)\n",
      "\n",
      "Receiver coordinate limits:\n",
      "\tNorth(22644,17418) South(22644,17418) East(22644,17418) West(22644,17418)\n",
      "\n",
      "Midpoint coordinate limits:\n",
      "\tNorth(-7088,22797.5) South(8524,3024.5) East(41815.5,17563.5) West(-17435.5,11462.5)\n",
      "\n"
     ]
    }
   ],
   "source": [
    "exp.dataset['obshy']['101'].surange()"
   ]
  },
  {
   "cell_type": "markdown",
   "metadata": {
    "heading_collapsed": true,
    "hidden": true
   },
   "source": [
    "#### Land data SEGY headers"
   ]
  },
  {
   "cell_type": "code",
   "execution_count": 33,
   "metadata": {
    "hidden": true,
    "run_control": {
     "marked": false
    }
   },
   "outputs": [
    {
     "name": "stdout",
     "output_type": "stream",
     "text": [
      "3200+0 records in\n",
      "6+1 records out\n",
      "3200 bytes (3.2 kB, 3.1 KiB) copied, 0.00730552 s, 438 kB/s\n",
      "\n",
      "13696 traces:\n",
      "tracl    1 13696 (1 - 13696)\n",
      "tracr    1 13696 (1 - 13696)\n",
      "fldr     9882 44056 (9882 - 44056)\n",
      "tracf    1801\n",
      "ep       1 60 (4 - 36)\n",
      "trid     1\n",
      "offset   4108 62941 (62941 - 55571)\n",
      "gelev    -361\n",
      "selev    -12\n",
      "sdepth   12\n",
      "swdep    18 1273 (744 - 488)\n",
      "scalel   1\n",
      "scalco   1\n",
      "sx       -57515 60987 (60987 - -51470)\n",
      "sy       -11369 28177 (17709 - 6929)\n",
      "gx       2615\n",
      "gy       -5833\n",
      "counit   1\n",
      "tstat    17\n",
      "laga     -4999 5000 (-800 - -3873)\n",
      "ns       7000\n",
      "dt       10000\n",
      "year     2015\n",
      "day      327 340 (327 - 340)\n",
      "hour     0 23 (5 - 23)\n",
      "minute   0 59 (34 - 25)\n",
      "sec      0 59 (4 - 40)\n",
      "timbas   4\n",
      "\n",
      "Shot coordinate limits:\n",
      "\tNorth(-36820,28177) South(-5596,-11369) East(60987,17709) West(-57515,5507)\n",
      "\n",
      "Receiver coordinate limits:\n",
      "\tNorth(2615,-5833) South(2615,-5833) East(2615,-5833) West(2615,-5833)\n",
      "\n",
      "Midpoint coordinate limits:\n",
      "\tNorth(-17102.5,11172) South(-1490.5,-8601) East(31801,5938) West(-27450,-163)\n",
      "\n"
     ]
    }
   ],
   "source": [
    "exp.dataset['lanvz']['801'].surange()"
   ]
  },
  {
   "cell_type": "markdown",
   "metadata": {
    "heading_collapsed": true,
    "hidden": true
   },
   "source": [
    "## Data size"
   ]
  },
  {
   "cell_type": "code",
   "execution_count": 1,
   "metadata": {
    "code_folding": [],
    "hidden": true,
    "run_control": {
     "marked": false
    }
   },
   "outputs": [
    {
     "name": "stdout",
     "output_type": "stream",
     "text": [
      "Single-channel OBS and land data take 57.64 GB and 11.439 GB of disk space, respectively.\n"
     ]
    }
   ],
   "source": [
    "# calculate \n",
    "print('Single-channel OBS and land data take %s GB and %s GB of disk space, respectively.' % ((88 * 655 / 1000),(369 * 31 / 1000)))"
   ]
  },
  {
   "cell_type": "markdown",
   "metadata": {
    "heading_collapsed": true,
    "hidden": true
   },
   "source": [
    "#### Check on disk"
   ]
  },
  {
   "cell_type": "code",
   "execution_count": 4,
   "metadata": {
    "hidden": true,
    "run_control": {
     "marked": false
    },
    "scrolled": true
   },
   "outputs": [
    {
     "name": "stdout",
     "output_type": "stream",
     "text": [
      "655M\t/home/kmc3817/heavy_PhD/DATA/Santorini_2015/seismic/OBS/segy_local_coords//MGL1521_S101_4.sgy\r\n"
     ]
    }
   ],
   "source": [
    "!du -h {exp.dataset['obshy']['101'].fname}"
   ]
  },
  {
   "cell_type": "code",
   "execution_count": 6,
   "metadata": {
    "hidden": true,
    "run_control": {
     "marked": false
    }
   },
   "outputs": [
    {
     "name": "stdout",
     "output_type": "stream",
     "text": [
      "88\r\n"
     ]
    }
   ],
   "source": [
    "!ls {exp.dataset['obshy']['101'].path}/*_4.sgy | wc -l"
   ]
  },
  {
   "cell_type": "code",
   "execution_count": 10,
   "metadata": {
    "hidden": true,
    "run_control": {
     "marked": false
    },
    "scrolled": true
   },
   "outputs": [
    {
     "name": "stdout",
     "output_type": "stream",
     "text": [
      "du: cannot access '{exp.dataset[lanvz][801].fname}': No such file or directory\r\n"
     ]
    }
   ],
   "source": [
    "!du -hs {exp.dataset['lanvz']['801'].fname}"
   ]
  },
  {
   "cell_type": "code",
   "execution_count": 43,
   "metadata": {
    "hidden": true,
    "run_control": {
     "marked": false
    }
   },
   "outputs": [
    {
     "name": "stdout",
     "output_type": "stream",
     "text": [
      "31\r\n"
     ]
    }
   ],
   "source": [
    "!ls {exp.dataset['lanvz']['801'].path}/*_1.sgy | wc -l"
   ]
  },
  {
   "cell_type": "markdown",
   "metadata": {
    "heading_collapsed": true,
    "hidden": true
   },
   "source": [
    "## Coordinates"
   ]
  },
  {
   "cell_type": "markdown",
   "metadata": {
    "hidden": true
   },
   "source": [
    "First, make sure you use 'Python 3' kernel to access `fullwavepy` routines. We will switch to 'pygmt' kernel for plots only."
   ]
  },
  {
   "cell_type": "markdown",
   "metadata": {
    "heading_collapsed": true,
    "hidden": true
   },
   "source": [
    "#### Alg. \n",
    "Define the extent of local coordinates of the model."
   ]
  },
  {
   "cell_type": "code",
   "execution_count": 7,
   "metadata": {
    "hidden": true,
    "run_control": {
     "marked": true
    }
   },
   "outputs": [],
   "source": [
    "x1 = +8.0e3\n",
    "x2 = +2.5e4   \n",
    "y1 = -3.0e3   \n",
    "y2 = +1.5e4    \n",
    "z1 = 0\n",
    "z2 = +4.0e3\n",
    "b01 = Box3d(x1, x2, y1, y2, z1, z2)"
   ]
  },
  {
   "cell_type": "markdown",
   "metadata": {
    "heading_collapsed": true,
    "hidden": true
   },
   "source": [
    "#### Alg. \n",
    "Create a grid from these coordinates."
   ]
  },
  {
   "cell_type": "code",
   "execution_count": 4,
   "metadata": {
    "hidden": true,
    "run_control": {
     "marked": true
    }
   },
   "outputs": [],
   "source": [
    "h = 50 # m\n",
    "X = np.arange(x1, x2+h, h)\n",
    "Y = np.arange(y1, y2+h, h)\n",
    "Z = np.arange(z1, z2+h, h)\n",
    "xx, yy = np.meshgrid(X,Y, indexing='ij')\n",
    "XY = np.zeros((2,len(xx.flatten())))\n",
    "XY[0,:] = xx.flatten()\n",
    "XY[1,:] = yy.flatten()"
   ]
  },
  {
   "cell_type": "code",
   "execution_count": 10,
   "metadata": {
    "hidden": true
   },
   "outputs": [
    {
     "data": {
      "text/plain": [
       "(2, 123101)"
      ]
     },
     "execution_count": 10,
     "metadata": {},
     "output_type": "execute_result"
    }
   ],
   "source": [
    "XY.shape"
   ]
  },
  {
   "cell_type": "markdown",
   "metadata": {
    "heading_collapsed": true,
    "hidden": true
   },
   "source": [
    "#### Alg. \n",
    "Peform the coordinate rotation which converts them (back) to UTM."
   ]
  },
  {
   "cell_type": "code",
   "execution_count": 18,
   "metadata": {
    "hidden": true
   },
   "outputs": [
    {
     "name": "stdout",
     "output_type": "stream",
     "text": [
      "CPU times: user 8 ms, sys: 0 ns, total: 8 ms\n",
      "Wall time: 3.8 ms\n"
     ]
    }
   ],
   "source": [
    "%%time \n",
    "from fullwavepy.seismic.proteus import CoordSystemPROTEUS\n",
    "R = CoordSystemPROTEUS.rotation_matrix(25.5)\n",
    "X, Y = R.dot(XY)"
   ]
  },
  {
   "cell_type": "markdown",
   "metadata": {
    "heading_collapsed": true,
    "hidden": true
   },
   "source": [
    "#### Fig. \n",
    "Compare coordinates before and after rotation. This shows that the rotation has a correct sign. The axis of rotation is in the centre of the local coordinates system which outside of this box."
   ]
  },
  {
   "cell_type": "code",
   "execution_count": 24,
   "metadata": {
    "code_folding": [
     0
    ],
    "hidden": true
   },
   "outputs": [
    {
     "data": {
      "image/png": "[encoded data removed]",
      "text/plain": [
       "<Figure size 432x288 with 1 Axes>"
      ]
     },
     "metadata": {
      "needs_background": "light"
     },
     "output_type": "display_data"
    }
   ],
   "source": [
    "# plot \n",
    "plt.plot(XY[0], XY[1], '.', c='r', label='before')\n",
    "plt.plot(X, Y, '.', label='after')\n",
    "aspeqt(plt.gca())\n",
    "_= plt.legend()"
   ]
  },
  {
   "cell_type": "markdown",
   "metadata": {
    "hidden": true
   },
   "source": [
    "#### Alg. \n",
    "Save the (de)rotated coordinates (now in UTM) to file."
   ]
  },
  {
   "cell_type": "code",
   "execution_count": 28,
   "metadata": {
    "code_folding": [],
    "hidden": true
   },
   "outputs": [
    {
     "name": "stdout",
     "output_type": "stream",
     "text": [
      "CPU times: user 23.2 s, sys: 792 ms, total: 24 s\n",
      "Wall time: 26.4 s\n"
     ]
    }
   ],
   "source": [
    "%%time \n",
    "with open('data/kol_rotated.xyz', 'w') as f:\n",
    "    for x, y in zip(X,Y):\n",
    "        for z in Z:\n",
    "            f.write('%s %s %s\\n' % (\n",
    "                \"{:10.5f}\".format(x),\"{:10.5f}\".format(y),\"{:6.0f}\".format(z)))"
   ]
  },
  {
   "cell_type": "markdown",
   "metadata": {
    "heading_collapsed": true,
    "hidden": true
   },
   "source": [
    "#### Alg. \n",
    "Convert the coordinates from UTM to lat/lon coordinates. "
   ]
  },
  {
   "cell_type": "code",
   "execution_count": 29,
   "metadata": {
    "hidden": true
   },
   "outputs": [
    {
     "name": "stdout",
     "output_type": "stream",
     "text": [
      "CPU times: user 196 ms, sys: 60 ms, total: 256 ms\n",
      "Wall time: 17.9 s\n"
     ]
    }
   ],
   "source": [
    "%%time \n",
    "lon0 = 25.3971\n",
    "lat0 = 36.4042\n",
    "file_inp = 'data/kol_rotated.xyz'\n",
    "file_out = 'data/kol_lon_lat_dep.txt'\n",
    "!cat {file_inp}  | proj -I +proj=tmerc +lat_0={lat0} +lon_0={lon0} +ellps=WGS84 +units=m +datum=WGS84 > {file_out} "
   ]
  },
  {
   "cell_type": "markdown",
   "metadata": {
    "heading_collapsed": true,
    "hidden": true
   },
   "source": [
    "#### Alg. \n",
    "Change format from deg/min/sec to decimal degrees."
   ]
  },
  {
   "cell_type": "code",
   "execution_count": 38,
   "metadata": {
    "collapsed": true,
    "hidden": true
   },
   "outputs": [
    {
     "name": "stdout",
     "output_type": "stream",
     "text": [
      "test_local2geogr (fullwavepy.seismic.test.test_proteus.TestCoordSystemPROTEUS) ... ok\r\n",
      "test_parse_proj_lonlat (fullwavepy.seismic.test.test_proteus.TestCoordSystemPROTEUS) ... NSWE E\r\n",
      "ok\r\n",
      "test_rotate_anticlock (fullwavepy.seismic.test.test_proteus.TestCoordSystemPROTEUS) ... ok\r\n",
      "test_ (fullwavepy.seismic.test.test_proteus.TestPROTEUS) ... ok\r\n",
      "\r\n",
      "----------------------------------------------------------------------\r\n",
      "Ran 4 tests in 0.010s\r\n",
      "\r\n",
      "OK\r\n"
     ]
    }
   ],
   "source": [
    "!python3 -m unittest fullwavepy.seismic.test.test_proteus  -v"
   ]
  },
  {
   "cell_type": "code",
   "execution_count": 1,
   "metadata": {
    "hidden": true
   },
   "outputs": [],
   "source": [
    "with open('data/kol_lon_lat_dep.txt', 'r') as f:\n",
    "    lines = f.readlines()"
   ]
  },
  {
   "cell_type": "code",
   "execution_count": 8,
   "metadata": {
    "hidden": true
   },
   "outputs": [
    {
     "name": "stdout",
     "output_type": "stream",
     "text": [
      "CPU times: user 35.8 s, sys: 244 ms, total: 36 s\n",
      "Wall time: 36 s\n"
     ]
    }
   ],
   "source": [
    "%%time \n",
    "from fullwavepy.seismic.proteus import CoordSystemPROTEUS\n",
    "newlines = []\n",
    "for line in lines:\n",
    "    lon, lat, dep = line.split(None)\n",
    "    lon = CoordSystemPROTEUS._parse_proj_lonlat(lon)\n",
    "    lat = CoordSystemPROTEUS._parse_proj_lonlat(lat)\n",
    "    newline = '%10.6f %10.6f %5.0f\\n' % (lon, lat, float(dep))\n",
    "    newlines.append(newline)        "
   ]
  },
  {
   "cell_type": "code",
   "execution_count": 9,
   "metadata": {
    "hidden": true
   },
   "outputs": [
    {
     "name": "stdout",
     "output_type": "stream",
     "text": [
      "CPU times: user 1.36 s, sys: 308 ms, total: 1.67 s\n",
      "Wall time: 3.51 s\n"
     ]
    }
   ],
   "source": [
    "%%time \n",
    "with open('data/kol_lon_lat_dep_FLOAT.txt', 'w') as f:\n",
    "    f.writelines(newlines)"
   ]
  },
  {
   "cell_type": "markdown",
   "metadata": {
    "heading_collapsed": true,
    "hidden": true
   },
   "source": [
    "#### Fig. \n",
    "Check the lat/lon coordinates by plotting them with `pygmt` (needs changing the kernel to `pygmt`)."
   ]
  },
  {
   "cell_type": "code",
   "execution_count": 9,
   "metadata": {
    "code_folding": [],
    "hidden": true,
    "run_control": {
     "marked": true
    }
   },
   "outputs": [
    {
     "name": "stdout",
     "output_type": "stream",
     "text": [
      "CPU times: user 4.9 s, sys: 372 ms, total: 5.27 s\n",
      "Wall time: 5.27 s\n"
     ]
    }
   ],
   "source": [
    "%%time \n",
    "lons, lats = [], []\n",
    "with open('data/kol_lon_lat_dep_FLOAT.txt', 'r') as f:\n",
    "    for line in f.readlines():\n",
    "        lon, lat, dep = line.split(None)\n",
    "        if float(dep) == 0: # only one depth slice should be enough\n",
    "            lons.append(float(lon))\n",
    "            lats.append(float(lat))"
   ]
  },
  {
   "cell_type": "code",
   "execution_count": 10,
   "metadata": {
    "code_folding": [
     3
    ],
    "hidden": true
   },
   "outputs": [
    {
     "data": {
      "image/png": "[encoded data removed]",
      "text/plain": [
       "<IPython.core.display.Image object>"
      ]
     },
     "execution_count": 10,
     "metadata": {
      "image/png": {
       "width": 500
      }
     },
     "output_type": "execute_result"
    }
   ],
   "source": [
    "# plot \n",
    "import pygmt\n",
    "fig = pygmt.Figure()\n",
    "fig.coast(\n",
    "    region=\"25.2/25.7/36.3/36.65\",\n",
    "    # Set projection to Mercator, and the figure size to 15 centimeters\n",
    "    projection=\"M15c\",\n",
    "    # Set the color of the land to light gray\n",
    "    land=\"lightgray\",\n",
    "    # Set the color of the water to white\n",
    "    water=\"white\",\n",
    "    # Display the national borders and set the pen thickness to 0.5p\n",
    "    borders=\"1/0.5p\",\n",
    "    # Display the shorelines and set the pen thickness to 0.5p\n",
    "    shorelines=\"1/0.5p\",\n",
    "    # Set the frame to display annotations and gridlines\n",
    "    frame=\"ag\",)\n",
    "fig.plot(x=lons, y=lats)\n",
    "fig.show()"
   ]
  },
  {
   "cell_type": "markdown",
   "metadata": {
    "heading_collapsed": true,
    "hidden": true
   },
   "source": [
    "#### Alg. \n",
    "Read and flatten the 3d model so that it matches the 1d column format of the coordinate file."
   ]
  },
  {
   "cell_type": "code",
   "execution_count": 8,
   "metadata": {
    "hidden": true
   },
   "outputs": [],
   "source": [
    "lll(40)\n",
    "path = '/home/kmc3817/c_projects_phd/fwi_sant_kolumbo/'\n",
    "p14 = ProjInv('p14', path=path, dt=.0025, ns=2000, dx=50, box=b01.box, cat=0)"
   ]
  },
  {
   "cell_type": "code",
   "execution_count": 13,
   "metadata": {
    "hidden": true
   },
   "outputs": [
    {
     "name": "stdout",
     "output_type": "stream",
     "text": [
      "CPU times: user 8 ms, sys: 20 ms, total: 28 ms\n",
      "Wall time: 126 ms\n"
     ]
    }
   ],
   "source": [
    "%%time \n",
    "vp = p14.o.vp.it[160].read()\n",
    "vp = vp.flatten()"
   ]
  },
  {
   "cell_type": "code",
   "execution_count": 18,
   "metadata": {
    "hidden": true
   },
   "outputs": [
    {
     "name": "stdout",
     "output_type": "stream",
     "text": [
      "CPU times: user 6.13 s, sys: 60 ms, total: 6.19 s\n",
      "Wall time: 6.48 s\n"
     ]
    }
   ],
   "source": [
    "%%time \n",
    "with open('data/kol_it160_vp.txt', 'w') as f:\n",
    "    for v in vp:\n",
    "        #f.write('%s\\n' % \"{:10.5f}\".format(v))\n",
    "        f.write('%.0f\\n' % v)"
   ]
  },
  {
   "cell_type": "markdown",
   "metadata": {
    "heading_collapsed": true,
    "hidden": true
   },
   "source": [
    "#### Alg. \n",
    "Merge coordinates and vp into a single file."
   ]
  },
  {
   "cell_type": "code",
   "execution_count": 10,
   "metadata": {
    "hidden": true
   },
   "outputs": [
    {
     "name": "stdout",
     "output_type": "stream",
     "text": [
      "CPU times: user 40 ms, sys: 44 ms, total: 84 ms\n",
      "Wall time: 3.45 s\n"
     ]
    }
   ],
   "source": [
    "%%time \n",
    "!paste -d' ' 'data/kol_lon_lat_dep_FLOAT.txt' 'data/kol_it160_vp.txt' > 'data/kol_it160_lon_lat_dep_vp.txt'"
   ]
  },
  {
   "cell_type": "markdown",
   "metadata": {
    "heading_collapsed": true,
    "hidden": true
   },
   "source": [
    "## Station response"
   ]
  },
  {
   "cell_type": "markdown",
   "metadata": {
    "hidden": true
   },
   "source": [
    "See the manuscript."
   ]
  },
  {
   "cell_type": "markdown",
   "metadata": {
    "heading_collapsed": true,
    "slideshow": {
     "slide_type": "skip"
    }
   },
   "source": [
    "# Initial QC"
   ]
  },
  {
   "cell_type": "markdown",
   "metadata": {
    "heading_collapsed": true,
    "hidden": true,
    "slideshow": {
     "slide_type": "skip"
    }
   },
   "source": [
    "#### Alg.\n",
    "Merge two files `OBS_stations.csv` and `recs.csv`."
   ]
  },
  {
   "cell_type": "code",
   "execution_count": 9,
   "metadata": {
    "hidden": true,
    "run_control": {
     "marked": false
    }
   },
   "outputs": [],
   "source": [
    "qc = pd.read_csv('data/OBS_stations.csv')\n",
    "recs = pd.read_csv('data/recs.csv')\n",
    "# select OBSes only:\n",
    "obs = recs.loc[recs['id'].isin(qc['Station'])]"
   ]
  },
  {
   "cell_type": "markdown",
   "metadata": {
    "hidden": true
   },
   "source": [
    "Three stations are missing from `obs` as they have no data and their SEGY files are not present."
   ]
  },
  {
   "cell_type": "code",
   "execution_count": 34,
   "metadata": {
    "code_folding": [],
    "hidden": true,
    "scrolled": true
   },
   "outputs": [
    {
     "name": "stdout",
     "output_type": "stream",
     "text": [
      "116\n",
      "152\n",
      "187\n"
     ]
    }
   ],
   "source": [
    "for i in qc.Station:\n",
    "    if i not in list(obs.id):\n",
    "        print(i)"
   ]
  },
  {
   "cell_type": "markdown",
   "metadata": {
    "hidden": true
   },
   "source": [
    "Let's exclude them from qc:"
   ]
  },
  {
   "cell_type": "code",
   "execution_count": 35,
   "metadata": {
    "hidden": true
   },
   "outputs": [],
   "source": [
    "qc = qc.drop(qc.loc[qc.Station.isin([116,152,187])].index)\n",
    "assert len(qc) == len(obs)"
   ]
  },
  {
   "cell_type": "markdown",
   "metadata": {
    "hidden": true
   },
   "source": [
    "Merge"
   ]
  },
  {
   "cell_type": "code",
   "execution_count": 12,
   "metadata": {
    "hidden": true
   },
   "outputs": [
    {
     "name": "stdout",
     "output_type": "stream",
     "text": [
      "Index(['Station', 'Pool', 'Data logger', 'Bad VZ', 'Bad HY', '6Hz-Z',\n",
      "       'Preferred', 'HZ RMS', 'HZ noise', 'VZ/HY signal', 'Comment (CP 2017)',\n",
      "       'Comment (EH 2016)', 'Eval', 'Unnamed: 0', 'id', 'gx', 'gy', 'pool'],\n",
      "      dtype='object')\n",
      "Index(['Station', 'Pool', 'Data logger', 'Bad VZ', 'Bad HY', '6Hz-Z',\n",
      "       'Preferred', 'HZ RMS', 'HZ noise', 'VZ/HY signal', 'Comment (CP 2017)',\n",
      "       'Comment (EH 2016)', 'Eval', 'id', 'gx', 'gy', 'pool'],\n",
      "      dtype='object')\n"
     ]
    }
   ],
   "source": [
    "df = pd.concat([qc, obs], axis=1)\n",
    "print(df.columns)\n",
    "df = df.drop(columns='Unnamed: 0')\n",
    "print(df.columns)"
   ]
  },
  {
   "cell_type": "markdown",
   "metadata": {
    "hidden": true,
    "slideshow": {
     "slide_type": "skip"
    }
   },
   "source": [
    "#### Fig.\n",
    "Plot initial-QC metadata from merged metadata."
   ]
  },
  {
   "cell_type": "code",
   "execution_count": 15,
   "metadata": {
    "code_folding": [
     0
    ],
    "hidden": true
   },
   "outputs": [],
   "source": [
    "# plot \n",
    "import plotly.express as px\n",
    "fig = px.scatter(df, x='gx', y='gy',\n",
    "                     hover_name='pool', text='id',\n",
    "                     hover_data=['Comment (EH 2016)', 'Comment (CP 2017)'],  \n",
    "                     width=800, height=400,\n",
    "                )\n",
    "fig.show(renderer=\"notebook\")"
   ]
  }
 ],
 "metadata": {
  "kernelspec": {
   "display_name": "Python 3",
   "language": "python",
   "name": "python3"
  },
  "language_info": {
   "codemirror_mode": {
    "name": "ipython",
    "version": 3
   },
   "file_extension": ".py",
   "mimetype": "text/x-python",
   "name": "python",
   "nbconvert_exporter": "python",
   "pygments_lexer": "ipython3",
   "version": "3.9.7"
  },
  "latex_envs": {
   "LaTeX_envs_menu_present": true,
   "autoclose": false,
   "autocomplete": true,
   "bibliofile": "biblio.bib",
   "cite_by": "apalike",
   "current_citInitial": 1,
   "eqLabelWithNumbers": true,
   "eqNumInitial": 1,
   "hotkeys": {
    "equation": "Ctrl-E",
    "itemize": "Ctrl-I"
   },
   "labels_anchors": false,
   "latex_user_defs": false,
   "report_style_numbering": false,
   "user_envs_cfg": false
  },
  "toc": {
   "base_numbering": 1,
   "nav_menu": {},
   "number_sections": false,
   "sideBar": false,
   "skip_h1_title": false,
   "title_cell": "Table of Contents",
   "title_sidebar": "Contents",
   "toc_cell": false,
   "toc_position": {},
   "toc_section_display": true,
   "toc_window_display": false
  }
 },
 "nbformat": 4,
 "nbformat_minor": 2
}
