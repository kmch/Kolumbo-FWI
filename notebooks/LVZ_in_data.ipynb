{
 "cells": [
  {
   "cell_type": "markdown",
   "id": "8bd64d93",
   "metadata": {},
   "source": [
    "Here we analyse the imprint of the low-velocity zone (LVZ) recovered by FWI in the seismic waveforms. Based on Fig. 3 of Paulatto et al. (Frontiers, in review), we expect a slight delay of travel time of the first arrival close to the LVZ and secondary arrivals modulating the waveforms in the inverted time window.\n",
    "\n",
    "To test this, we first analyse two synthetic datasets calculated respectively from:\n",
    "1. starting model.\n",
    "2. starting model perturbed with a spherical anomaly of a similar size to the one recovered by FWI.\n",
    "\n",
    "Calculation of the 1. dataset can be found in `Synthetic-data_calculation.ipynb` notebook. The 2. dataset was calculated in `Spike_tests.ipynb`. Here we compare them by interleaving subsets of the respective OBS-gathers. We also compare single traces.\n",
    "\n",
    "We then look at the portion of the field dataset (first introduced in `Field_data.ipynb`) where the imprint of the LVZ is expected based on the above. Due to the low S/N ratio this imprint is not immediately visible in the inverted time window.\n",
    "\n",
    "However, comparing the field dataset to 1. and 2. synthetic dataset, one at a time, reveals that the 2. dataset better fits the field traces."
   ]
  },
  {
   "cell_type": "markdown",
   "id": "24ebfad1",
   "metadata": {
    "heading_collapsed": true,
    "slideshow": {
     "slide_type": "skip"
    }
   },
   "source": [
    "#### Notebook config"
   ]
  },
  {
   "cell_type": "code",
   "execution_count": 8,
   "id": "47de041f",
   "metadata": {
    "hidden": true,
    "run_control": {
     "marked": true
    }
   },
   "outputs": [
    {
     "name": "stdout",
     "output_type": "stream",
     "text": [
      "The autoreload extension is already loaded. To reload it, use:\n",
      "  %reload_ext autoreload\n"
     ]
    }
   ],
   "source": [
    "%load_ext autoreload"
   ]
  },
  {
   "cell_type": "code",
   "execution_count": 9,
   "id": "e6b94436",
   "metadata": {
    "hidden": true,
    "run_control": {
     "marked": true
    }
   },
   "outputs": [],
   "source": [
    "%autoreload 2"
   ]
  },
  {
   "cell_type": "code",
   "execution_count": 10,
   "id": "48366901",
   "metadata": {
    "hidden": true,
    "run_control": {
     "marked": true
    }
   },
   "outputs": [],
   "source": [
    "import fwipy \n",
    "from fwipy import *"
   ]
  },
  {
   "cell_type": "code",
   "execution_count": 11,
   "id": "a3b5e2db",
   "metadata": {
    "hidden": true
   },
   "outputs": [
    {
     "name": "stdout",
     "output_type": "stream",
     "text": [
      "Help on package fwipy:\n",
      "\n",
      "NAME\n",
      "    fwipy\n",
      "\n",
      "PACKAGE CONTENTS\n",
      "    config (package)\n",
      "    dsp (package)\n",
      "    fd (package)\n",
      "    fwi (package)\n",
      "    generic (package)\n",
      "    ioapi (package)\n",
      "    ndat (package)\n",
      "    numeric (package)\n",
      "    plot (package)\n",
      "    project (package)\n",
      "    seismic (package)\n",
      "    utils\n",
      "\n",
      "FILE\n",
      "    /home/kajetan/software/Kolumbo-FWI/fwipy/__init__.py\n",
      "\n",
      "\n"
     ]
    }
   ],
   "source": [
    "help(fwipy)"
   ]
  },
  {
   "cell_type": "code",
   "execution_count": null,
   "id": "934f2217",
   "metadata": {
    "hidden": true
   },
   "outputs": [],
   "source": []
  },
  {
   "cell_type": "markdown",
   "id": "339054f0",
   "metadata": {
    "slideshow": {
     "slide_type": "skip"
    }
   },
   "source": [
    "# Compare 2 synthetic datasets"
   ]
  },
  {
   "cell_type": "markdown",
   "id": "9237b993",
   "metadata": {
    "slideshow": {
     "slide_type": "skip"
    }
   },
   "source": [
    "# ..."
   ]
  }
 ],
 "metadata": {
  "kernelspec": {
   "display_name": "Python 3",
   "language": "python",
   "name": "python3"
  },
  "language_info": {
   "codemirror_mode": {
    "name": "ipython",
    "version": 3
   },
   "file_extension": ".py",
   "mimetype": "text/x-python",
   "name": "python",
   "nbconvert_exporter": "python",
   "pygments_lexer": "ipython3",
   "version": "3.9.7"
  }
 },
 "nbformat": 4,
 "nbformat_minor": 5
}
