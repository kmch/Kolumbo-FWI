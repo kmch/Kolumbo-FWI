{
 "cells": [
  {
   "cell_type": "markdown",
   "metadata": {},
   "source": [
    "See the parent `Kolumbo_volcano.ipynb` notebook."
   ]
  },
  {
   "cell_type": "markdown",
   "metadata": {
    "heading_collapsed": true,
    "slideshow": {
     "slide_type": "slide"
    }
   },
   "source": [
    "#### Notebook setup"
   ]
  },
  {
   "cell_type": "code",
   "execution_count": 12,
   "metadata": {
    "code_folding": [
     0
    ],
    "hidden": true,
    "run_control": {
     "marked": true
    }
   },
   "outputs": [
    {
     "name": "stdout",
     "output_type": "stream",
     "text": [
      "Created `%mi` as an alias for `%matplotlib inline`.\n",
      "Created `%mn` as an alias for `%matplotlib notebook`.\n"
     ]
    }
   ],
   "source": [
    "# %load /home/kmc3817/software/fullwavepy/fullwavepy/config/jupyter.py \n",
    "from fullwavepy import * # Load modules imported in fullwavepy/__init__.py\n",
    "# -----------------------------------------------------------------------------\n",
    "# Set aliases of frequently used jupyter magic commands\n",
    "# -----------------------------------------------------------------------------\n",
    "%alias_magic mi matplotlib -p inline\n",
    "%alias_magic mn matplotlib -p notebook\n",
    "# -----------------------------------------------------------------------------\n",
    "# Set matplotlib backend\n",
    "# -----------------------------------------------------------------------------\n",
    "# non-interactive plots displayed in a notebook cell\n",
    "%matplotlib inline\n",
    "# interactive plots displayed in a notebook cell\n",
    "# %matplotlib notebook (interactive version)\n",
    "# -----------------------------------------------------------------------------\n",
    "# Set matplotlib style\n",
    "# ----------------------------------------------------------------------------\n",
    "plt.style.reload_library()\n",
    "# a combined style (right overwrites left wherever they overlap):\n",
    "plt.style.use(['default', 'ggplot'])\n",
    "# print(plt.style.available) \n",
    "# -----------------------------------------------------------------------------\n",
    "# Configure logging\n",
    "# -----------------------------------------------------------------------------\n",
    "# Set up loggers, handlers and load the log_lvl function\n",
    "from fullwavepy.config.logging import *\n",
    "# -----------------------------------------------------------------------------\n",
    "# Set level of log-messages\n",
    "log_lvl(INFO) \n",
    "# Other options in order of increasing importance and \n",
    "# decreasing verbosity:\n",
    "# TRACE, DEBUG, INFO, WARNING, ERROR, CRITICAL\n",
    "# or using integers: 0, 10, 20, 30, 40, 50, respectively\n",
    "# -----------------------------------------------------------------------------\n",
    "# Autocompleting\n",
    "# -----------------------------------------------------------------------------\n",
    "#  Not sure if it works\n",
    "#%config IPCompleter.greedy=True \n",
    "# -----------------------------------------------------------------------------\n",
    "# Automatically reload modules before execution\n",
    "#%load_ext autoreload\n",
    "#%autoreload 2\n"
   ]
  },
  {
   "cell_type": "code",
   "execution_count": 13,
   "metadata": {
    "hidden": true,
    "run_control": {
     "marked": true
    }
   },
   "outputs": [],
   "source": [
    "path_eph = '/home/kmc3817/rds_home/my_ephemeral/PROJECTS/ch_kol'"
   ]
  },
  {
   "cell_type": "markdown",
   "metadata": {
    "slideshow": {
     "slide_type": "slide"
    }
   },
   "source": [
    "# Synthetic-data calculation\n",
    "See `0831_Synthetic-data_calculation.ipynb`."
   ]
  },
  {
   "cell_type": "markdown",
   "metadata": {
    "slideshow": {
     "slide_type": "skip"
    }
   },
   "source": [
    "# Synthetic vs. field data\n",
    "See `0832_Synthetic_vs_field_data.ipynb`."
   ]
  },
  {
   "cell_type": "markdown",
   "metadata": {
    "slideshow": {
     "slide_type": "slide"
    }
   },
   "source": [
    "# Synthetic-data inversion\n",
    "See `08E_Chequer.ipynb` and `08F_Tradeoff.ipynb`."
   ]
  },
  {
   "cell_type": "markdown",
   "metadata": {
    "slideshow": {
     "slide_type": "slide"
    }
   },
   "source": [
    "# Field-data inversion"
   ]
  },
  {
   "cell_type": "markdown",
   "metadata": {
    "heading_collapsed": true
   },
   "source": [
    "## Inp"
   ]
  },
  {
   "cell_type": "markdown",
   "metadata": {
    "hidden": true,
    "slideshow": {
     "slide_type": "skip"
    }
   },
   "source": [
    "Project `p14` -- finishing the FWI already run for 87 iterations (up to 4.5 Hz). Copy from RDS/home to RDS/ephemeral. "
   ]
  },
  {
   "cell_type": "code",
   "execution_count": 38,
   "metadata": {
    "hidden": true,
    "run_control": {
     "marked": false
    },
    "slideshow": {
     "slide_type": "skip"
    }
   },
   "outputs": [
    {
     "name": "stdout",
     "output_type": "stream",
     "text": [
      "CPU times: user 148 ms, sys: 24 ms, total: 172 ms\n",
      "Wall time: 340 ms\n"
     ]
    }
   ],
   "source": [
    "%%time\n",
    "lll(40) # set logging level to WARNINGS and ERRORs only\n",
    "path = '/home/kmc3817/c_projects_phd/fwi_sant_kolumbo/'\n",
    "p14 = ProjInv('p14', path=path_eph, box=b01.box, **d01, cat=0, exe=exe_690) # Lasso selected."
   ]
  },
  {
   "cell_type": "code",
   "execution_count": 36,
   "metadata": {
    "hidden": true,
    "run_control": {
     "marked": false
    }
   },
   "outputs": [
    {
     "data": {
      "text/plain": [
       "81"
      ]
     },
     "execution_count": 36,
     "metadata": {},
     "output_type": "execute_result"
    }
   ],
   "source": [
    "p14.nx3"
   ]
  },
  {
   "cell_type": "code",
   "execution_count": 31,
   "metadata": {
    "collapsed": true,
    "hidden": true,
    "run_control": {
     "marked": false
    }
   },
   "outputs": [
    {
     "name": "stdout",
     "output_type": "stream",
     "text": [
      "Content of  /home/kmc3817/rds_home/my_ephemeral/PROJECTS/ch_kol//p14//inp/p14-Runfile.key : \n",
      "\n",
      "    ! May 2019, K. Chrapkiewicz \n",
      "    ! THIS RUNFILE CONFORMS TO\n",
      "    ! FULLWAVE REV. 688 STANDARD\n",
      "    \n",
      "    \n",
      "    ! A. PROBLEM DEFINITION\n",
      "     problem       : tomography\n",
      "     domain        : time\n",
      "     dim           : 3d\n",
      "     equation      : acoustic\n",
      "     units         : metric\n",
      "     anisotropy    : none\n",
      "     kernel        : low\n",
      "    \n",
      "     \n",
      "    ! B. MODEL DEFINITION\n",
      "     nx1           : 341\n",
      "     nx2           : 361\n",
      "     nx3           : 201.0\n",
      "     dx            : 50.0000000\n",
      "    \n",
      "     \n",
      "    ! C. DATA DEFINITION\n",
      "     ncomp         : 16\n",
      "     nshots        : 16\n",
      "     nrecs         : 1481\n",
      "     maxrc         : 1144\n",
      "     maxps         : 1\n",
      "     io            : segy\n",
      "    \n",
      "     \n",
      "    ! D. BOUNDARY CONDITIONS\n",
      "     btop          : 0\n",
      "     bbot          : 40\n",
      "     bleft         : 40\n",
      "     bright        : 40\n",
      "     bfront        : 40\n",
      "     bback         : 40\n",
      "     \n",
      "     etop          : 0\n",
      "     ebot          : 50\n",
      "     elef          : 50\n",
      "     erig          : 50\n",
      "     efro          : 50\n",
      "     ebac          : 50\n",
      "    \n",
      "     \n",
      "    ! F. MUTES & DATA SELECTION\n",
      "     etime         : 5.0\n",
      "    \n",
      "    \n",
      "    ! G. INVERSION PARAMATERS\n",
      "     !iprop        : vp       ! INVERT PROPERTIES\n",
      "     func          : twonorm  ! FUNCTIONAL\n",
      "     agc           : off      ! DEFAULT: off\n",
      "     amplitude     : no       ! DEFAULT: no\n",
      "     normalise     : yes      ! DEFAULT: yes\n",
      "     spatial       : yes      ! SPATIAL PRECONDITIONER; DEFAULT: yes\n",
      "     slowness      : yes      ! DEFAULT: yes\n",
      "     conj          : no       ! CONJUGATE GRADIENT; DEFAULT: no\n",
      "     gwidth        : 0.0      ! GAUSSIAN WIDTH; DEFAULT: 0.0\n",
      "     \n",
      "     !OMITTED: huber\n",
      "    \n",
      "     \n",
      "    ! G. SMOOTHING & WINDOWING\n",
      "     usewin        : no\n",
      "     win1          : 1\n",
      "     win2          : 1\n",
      "     win3          : 10000\n",
      "     win4          : 10000\n",
      "     \n",
      "     sx1           : 2.0\n",
      "     sx2           : 2.0\n",
      "     sx3           : 1.0\n",
      "     \n",
      "     !OMITTED: smooth,\n",
      "     !         asx1, asx2, asx3, fins, finsx1, finsx2, finsx3,\n",
      "     !         finscut, finsramp\n",
      "    \n",
      "    \n",
      "    ! I. P-WAVE VELOCITY MODEL\n",
      "     velcut        : 1550     ! [m/s] DO NOT UPDATE FOR ALL x : ANY_PARAM(x) < velcut  \n",
      "     \n",
      "     !OMITTED: minvc, maxvc\n",
      "    \n",
      "     \n",
      "    ! J. DENSITY MODEL\n",
      "     wvel          : 1550     ! [m/s]   WATER VEL. (SETS wden FOR ALL x : Vp(x) <= wvel)\n",
      "     wden          : 1000     ! [kg/m3] WATER DEN.\n",
      "     gvel          : 1600     ! [m/s]   GARDNER CUTOFF VEL.\n",
      "    \n",
      "     !OMITTED: max water cell (gcell), min water cell\n",
      "     \n",
      "    \n",
      "    ! K. ANISOTROPY MODEL\n",
      "     !OMITTED: minec, maxec, mindc, maxdc, ttiu, angle\n",
      "    \n",
      "     \n",
      "    ! L. ELASTIC MODEL\n",
      "     !OMITTED: minvsc, maxvsc, vp to vs, vpzero, \n",
      "     \n",
      "     \n",
      "    ! M. EPICMods \n",
      "     !OMITTED: ALL\n",
      "     \n",
      "    \n",
      "    ! N. GLOBAL INVERSION VIA qPSO\n",
      "     !OMITTED: ALL \n",
      "    \n",
      "    \n",
      "    ! E. ITERATIONS & DATA SELECTION (THE LAST PART OF THE FILE)\n",
      "     nblock        : 8\n",
      "\n",
      "     freq          : 3.0\n",
      "     nits          : 20\n",
      "\n",
      "     freq          : 3.5\n",
      "     nits          : 20\n",
      "\n",
      "     freq          : 4.0\n",
      "     nits          : 20\n",
      "\n",
      "     freq          : 4.5\n",
      "     nits          : 20\n",
      "\n",
      "     freq          : 5.0\n",
      "     nits          : 20\n",
      "\n",
      "     freq          : 5.5\n",
      "     nits          : 20\n",
      "\n",
      "     freq          : 6.0\n",
      "     nits          : 20\n",
      "\n",
      "     freq          : 6.5\n",
      "     nits          : 20\n",
      "\n",
      " \n"
     ]
    }
   ],
   "source": [
    "p14.i.rnf.cat()"
   ]
  },
  {
   "cell_type": "code",
   "execution_count": 24,
   "metadata": {
    "hidden": true,
    "run_control": {
     "marked": false
    },
    "slideshow": {
     "slide_type": "skip"
    }
   },
   "outputs": [
    {
     "name": "stdout",
     "output_type": "stream",
     "text": [
      "          87\r\n"
     ]
    }
   ],
   "source": [
    "!cat {path}/p14/inp/p14-LastCheckpoint.txt"
   ]
  },
  {
   "cell_type": "code",
   "execution_count": 40,
   "metadata": {
    "hidden": true,
    "run_control": {
     "marked": false
    }
   },
   "outputs": [
    {
     "name": "stdout",
     "output_type": "stream",
     "text": [
      "\r\n",
      "    ! May 2019, K. Chrapkiewicz \r\n",
      "    ! THIS RUNFILE CONFORMS TO\r\n",
      "    ! FULLWAVE REV. 688 STANDARD\r\n",
      "    \r\n",
      "    \r\n",
      "    ! A. PROBLEM DEFINITION\r\n",
      "     problem       : tomography\r\n",
      "     domain        : time\r\n",
      "     dim           : 3d\r\n",
      "     equation      : acoustic\r\n",
      "     units         : metric\r\n",
      "     anisotropy    : none\r\n",
      "     kernel        : low\r\n",
      "    \r\n",
      "     \r\n",
      "    ! B. MODEL DEFINITION\r\n",
      "     nx1           : 341\r\n",
      "     nx2           : 361\r\n",
      "     nx3           : 81\r\n",
      "     dx            : 50.0000000\r\n",
      "    \r\n",
      "     \r\n",
      "    ! C. DATA DEFINITION\r\n",
      "     ncomp         : 16\r\n",
      "     nshots        : 16\r\n",
      "     nrecs         : 1481\r\n",
      "     maxrc         : 1144\r\n",
      "     maxps         : 1\r\n",
      "     io            : segy\r\n",
      "    \r\n",
      "     \r\n",
      "    ! D. BOUNDARY CONDITIONS\r\n",
      "     btop          : 0\r\n",
      "     bbot          : 40\r\n",
      "     bleft         : 40\r\n",
      "     bright        : 40\r\n",
      "     bfront        : 40\r\n",
      "     bback         : 40\r\n",
      "     \r\n",
      "     etop          : 0\r\n",
      "     ebot          : 50\r\n",
      "     elef          : 50\r\n",
      "     erig          : 50\r\n",
      "     efro          : 50\r\n",
      "     ebac          : 50\r\n",
      "    \r\n",
      "     \r\n",
      "    ! F. MUTES & DATA SELECTION\r\n",
      "     etime         : 5.0\r\n",
      "    \r\n",
      "    \r\n",
      "    ! G. INVERSION PARAMATERS\r\n",
      "     !iprop        : vp       ! INVERT PROPERTIES\r\n",
      "     func          : twonorm  ! FUNCTIONAL\r\n",
      "     agc           : off      ! DEFAULT: off\r\n",
      "     amplitude     : no       ! DEFAULT: no\r\n",
      "     normalise     : yes      ! DEFAULT: yes\r\n",
      "     spatial       : yes      ! SPATIAL PRECONDITIONER; DEFAULT: yes\r\n",
      "     slowness      : yes      ! DEFAULT: yes\r\n",
      "     conj          : no       ! CONJUGATE GRADIENT; DEFAULT: no\r\n",
      "     gwidth        : 0.0      ! GAUSSIAN WIDTH; DEFAULT: 0.0\r\n",
      "     \r\n",
      "     !OMITTED: huber\r\n",
      "    \r\n",
      "     \r\n",
      "    ! G. SMOOTHING & WINDOWING\r\n",
      "     usewin        : no\r\n",
      "     win1          : 1\r\n",
      "     win2          : 1\r\n",
      "     win3          : 10000\r\n",
      "     win4          : 10000\r\n",
      "     \r\n",
      "     sx1           : 2.0\r\n",
      "     sx2           : 2.0\r\n",
      "     sx3           : 1.0\r\n",
      "     \r\n",
      "     !OMITTED: smooth,\r\n",
      "     !         asx1, asx2, asx3, fins, finsx1, finsx2, finsx3,\r\n",
      "     !         finscut, finsramp\r\n",
      "    \r\n",
      "    \r\n",
      "    ! I. P-WAVE VELOCITY MODEL\r\n",
      "     velcut        : 1550     ! [m/s] DO NOT UPDATE FOR ALL x : ANY_PARAM(x) < velcut  \r\n",
      "     \r\n",
      "     !OMITTED: minvc, maxvc\r\n",
      "    \r\n",
      "     \r\n",
      "    ! J. DENSITY MODEL\r\n",
      "     wvel          : 1550     ! [m/s]   WATER VEL. (SETS wden FOR ALL x : Vp(x) <= wvel)\r\n",
      "     wden          : 1000     ! [kg/m3] WATER DEN.\r\n",
      "     gvel          : 1600     ! [m/s]   GARDNER CUTOFF VEL.\r\n",
      "    \r\n",
      "     !OMITTED: max water cell (gcell), min water cell\r\n",
      "     \r\n",
      "    \r\n",
      "    ! K. ANISOTROPY MODEL\r\n",
      "     !OMITTED: minec, maxec, mindc, maxdc, ttiu, angle\r\n",
      "    \r\n",
      "     \r\n",
      "    ! L. ELASTIC MODEL\r\n",
      "     !OMITTED: minvsc, maxvsc, vp to vs, vpzero, \r\n",
      "     \r\n",
      "     \r\n",
      "    ! M. EPICMods \r\n",
      "     !OMITTED: ALL\r\n",
      "     \r\n",
      "    \r\n",
      "    ! N. GLOBAL INVERSION VIA qPSO\r\n",
      "     !OMITTED: ALL \r\n",
      "    \r\n",
      "    \r\n",
      "    ! E. ITERATIONS & DATA SELECTION (THE LAST PART OF THE FILE)\r\n",
      "     nblock        : 8\r\n",
      "\r\n",
      "     freq          : 3.0\r\n",
      "     nits          : 20\r\n",
      "\r\n",
      "     freq          : 3.5\r\n",
      "     nits          : 20\r\n",
      "\r\n",
      "     freq          : 4.0\r\n",
      "     nits          : 20\r\n",
      "\r\n",
      "     freq          : 4.5\r\n",
      "     nits          : 20\r\n",
      "\r\n",
      "     freq          : 5.0\r\n",
      "     nits          : 20\r\n",
      "\r\n",
      "     freq          : 5.5\r\n",
      "     nits          : 20\r\n",
      "\r\n",
      "     freq          : 6.0\r\n",
      "     nits          : 20\r\n",
      "\r\n",
      "     freq          : 6.5\r\n",
      "     nits          : 20\r\n",
      "\r\n"
     ]
    }
   ],
   "source": [
    "!cat {path}/p14/inp/p14-Runfile.key"
   ]
  },
  {
   "cell_type": "code",
   "execution_count": 39,
   "metadata": {
    "code_folding": [],
    "hidden": true,
    "run_control": {
     "marked": false
    },
    "slideshow": {
     "slide_type": "skip"
    }
   },
   "outputs": [],
   "source": [
    "!cp {path}/p14/inp/* {p14.inp.path}\n",
    "!cp {path}/p14/out/p14-CP00087-* {p14.out.path}\n",
    "!cp {path}/p14/inp/p14-Out.log {path}/p14/inp/p14-Out1.log \n",
    "!cp {path}/p14/inp/p14-Err.log {path}/p14/inp/p14-Err1.log \n",
    "!cp {path}/p14/inp/p14-Run.pbs {path}/p14/inp/p14-Run1.pbs \n",
    "!cp {path}/p14/inp/p14-Out.log {p14.out.path}/p14-Out1.log \n",
    "!cp {path}/p14/inp/p14-Err.log {p14.out.path}/p14-Err1.log \n",
    "!cp {path}/p14/inp/p14-Run.pbs {p14.out.path}/p14-Run1.pbs "
   ]
  },
  {
   "cell_type": "code",
   "execution_count": 28,
   "metadata": {
    "hidden": true,
    "run_control": {
     "marked": false
    }
   },
   "outputs": [
    {
     "name": "stdout",
     "output_type": "stream",
     "text": [
      "p14-CP00087-Runfile.key  p14-CP00087-Vp.sgy  p14-Err1.log  p14-Run1.pbs\r\n",
      "p14-CP00087-Vp.mmp\t p14-CP00087-Vp.vtr  p14-Out1.log\r\n"
     ]
    }
   ],
   "source": [
    "!ls /home/kmc3817/rds_home/my_ephemeral/PROJECTS/ch_kol/p14/out"
   ]
  },
  {
   "cell_type": "code",
   "execution_count": 60,
   "metadata": {
    "collapsed": true,
    "hidden": true,
    "run_control": {
     "marked": false
    },
    "slideshow": {
     "slide_type": "skip"
    }
   },
   "outputs": [
    {
     "name": "stdout",
     "output_type": "stream",
     "text": [
      "Content of  /home/kmc3817/rds_home/my_ephemeral/PROJECTS/ch_kol//p14//out/p14-Out0.log : \n",
      "# mpiexec: RDMA network found -- using rdma+shared memory (I_MPI_DEVICE=rdssm:ofa-v2-ib0)\n",
      "# mpiexec: full path to program is /rds/general/user/kmc3817/home/PhD/fullwave3D/rev690/bin/fullwave3D.exe\n",
      "# mpiexec: program arguments are: p14 -1 4\n",
      "# mpiexec: 2 ranks allocated via PBS select\n",
      "# mpiexec: 4 OpenMP threads / rank allocated by PBS select\n",
      "# mpiexec: Job has shared use of the allocated nodes. Disabling process-pinning\n",
      "# mpiexec: machinefile configured as:\n",
      "cx2-5-4-6.cx2.hpc.ic.ac.uk:2\n",
      "#\n",
      "# mpiexec: Checking all nodes are ONLINE:\n",
      "# mpiexec: All nodes appear ONLINE\n",
      "# mpiexec: launch started at Sun 20 Jun 11:01:19 BST 2021\n",
      "# mpiexec: launching program...\n",
      "# /rds/general/user/kmc3817/home/PhD/fullwave3D/rev690/bin/fullwave3D.exe p14 -1 4\n",
      "(cx2-5-4-6.cx2.hpc.ic.ac.uk:0,1)\n",
      "---=== Starting run (host: cx2-5-4-6.cx2.hpc.ic.ac.uk) on 2021/06/20, 11:01:27 ===---\n",
      "executable: fullwave3D.exe, version: unknown, release date: 2021-06-20\n",
      "=== [11:01:27] scheduler_getprojargs: Project name (command-line argument): \"p14\"\n",
      "=== [11:01:27] scheduler_getprojargs: Checkpoint number (command-line argument): -1\n",
      "=== [11:01:34] read_chkptnum: NOTE: Found last checkpoint file p14-LastCheckpoint.txt\" - will attempt to restart a tomographic run from checkpoint 87\n",
      "=== [11:01:34] setup_probtype: Equation: \"acoustic\", Anisotropy: \"none\", Domain: \"time\", Kernel: \"low\"\n",
      "    [11:01:34] read_runfile: number of iteration blocks in \"p14-CP00087-Runfile.key\": 8\n",
      "    [11:01:34] read_runfile: total time given in \"p14-CP00087-Runfile.key\": 5.000000 seconds\n",
      "    [11:01:34] scheduler_readinput: Grid dimensions (Length x Width x Depth): 441x461x133 cells\n",
      "    [11:01:35] read_modelprop: Got Vp model from \"p14-CP00087-Vp.sgy\"\n",
      "    [11:01:36] scheduler_readinput: Initial min/max Vp (m/s): 1517.31, 6296.40\n",
      "    [11:01:36] scheduler_readinput: Current min/max Vp (m/s): 1517.31, 7128.26\n",
      "    [11:01:36] scheduler_readinput: Initial min/max Qp: 0.00, 0.00\n",
      "    [11:01:36] scheduler_readinput: Max. reliable pressure wave propagation frequency on this grid is about 6.07Hz\n",
      "    [11:01:36] scheduler_run: Starting new iteration block (5) with fnltag \"2NRM\"\n",
      "    [11:01:36] getall: Time-step: 2.5000E-03, maximum trace-length: 5.0000E+00\n",
      "    [11:01:36] getall: number of composite shots found in \"p14-Signature.sgy\": 16\n",
      "    [11:01:36] GetShotPointReceiverTracesInfo: number of composite shots found in \"p14-Observed.sgy\": 16\n",
      "---=== Scheduler initialisation complete. Ready for slaves on 2021/06/20, 11:01:36 ===---\n",
      "    [11:01:38] (Slave1;CSRef4138;SrcID14) slave_timesolve: starting 2000 time-steps with 4 threads (bnds:40,40,40,40,0,40 weipar:0.000,0.000)\n",
      "    [11:01:38] (Slave1;CSRef4138;SrcID14) boxesandfwstore: Local store trigger: 42949672960 bytes\n",
      " \n"
     ]
    }
   ],
   "source": [
    "p14.o.o.no[0].cat()"
   ]
  },
  {
   "cell_type": "code",
   "execution_count": 62,
   "metadata": {
    "collapsed": true,
    "hidden": true,
    "run_control": {
     "marked": false
    },
    "slideshow": {
     "slide_type": "skip"
    }
   },
   "outputs": [
    {
     "name": "stdout",
     "output_type": "stream",
     "text": [
      "Content of /home/kmc3817/rds_home/my_ephemeral/PROJECTS/ch_kol/p14/out\n",
      "\n",
      "total 2.9G\n",
      "-rwx------ 1 kmc3817 root  33K Jun 20 11:31 p14-Out2.log\n",
      "-rwx------ 1 kmc3817 root  23M Jun 20 11:31 p14-SLAVES_DUMPCOMPARE-csref04124-iter00090fwd1.ttr\n",
      "-rwx------ 1 kmc3817 root  22M Jun 20 11:31 p14-SLAVES_DUMPCOMPARE-csref04138-iter00090fwd1.ttr\n",
      "-rwx------ 1 kmc3817 root  22M Jun 20 11:31 p14-SLAVES_DUMPCOMPARE-csref04157-iter00090fwd1.ttr\n",
      "-rwx------ 1 kmc3817 root  21M Jun 20 11:31 p14-SLAVES_DUMPCOMPARE-csref04110-iter00090fwd1.ttr\n",
      "-rwx------ 1 kmc3817 root  24M Jun 20 11:31 p14-SLAVES_DUMPCOMPARE-csref04177-iter00090fwd1.ttr\n",
      "-rwx------ 1 kmc3817 root  25M Jun 20 11:31 p14-SLAVES_DUMPCOMPARE-csref04158-iter00090fwd1.ttr\n",
      "-rwx------ 1 kmc3817 root  25M Jun 20 11:31 p14-SLAVES_DUMPCOMPARE-csref04123-iter00090fwd1.ttr\n",
      "-rwx------ 1 kmc3817 root  21M Jun 20 11:31 p14-SLAVES_DUMPCOMPARE-csref04137-iter00090fwd1.ttr\n",
      "-rwx------ 1 kmc3817 root   13 Jun 20 11:29 p14-LastCheckpoint.txt\n",
      "-rwx------ 1 kmc3817 root  67M Jun 20 11:29 p14-CP00089-Vp.sgy\n",
      "-rwx------ 1 kmc3817 root 4.5K Jun 20 11:29 p14-CP00089-Runfile.key\n",
      "-rwx------ 1 kmc3817 root  22M Jun 20 11:29 p14-SLAVES_DUMPCOMPARE-csref04157-iter00089fwd2.ttr\n",
      "-rwx------ 1 kmc3817 root  22M Jun 20 11:29 p14-SLAVES_DUMPCOMPARE-csref04138-iter00089fwd2.ttr\n",
      "-rwx------ 1 kmc3817 root  23M Jun 20 11:29 p14-SLAVES_DUMPCOMPARE-csref04124-iter00089fwd2.ttr\n",
      "-rwx------ 1 kmc3817 root  21M Jun 20 11:29 p14-SLAVES_DUMPCOMPARE-csref04110-iter00089fwd2.ttr\n",
      "-rwx------ 1 kmc3817 root  25M Jun 20 11:29 p14-SLAVES_DUMPCOMPARE-csref04158-iter00089fwd2.ttr\n",
      "-rwx------ 1 kmc3817 root  25M Jun 20 11:29 p14-SLAVES_DUMPCOMPARE-csref04123-iter00089fwd2.ttr\n",
      "-rwx------ 1 kmc3817 root  24M Jun 20 11:29 p14-SLAVES_DUMPCOMPARE-csref04177-iter00089fwd2.ttr\n",
      "-rwx------ 1 kmc3817 root  21M Jun 20 11:29 p14-SLAVES_DUMPCOMPARE-csref04137-iter00089fwd2.ttr\n",
      "-rwx------ 1 kmc3817 root  22M Jun 20 11:27 p14-SLAVES_DUMPCOMPARE-csref04176-iter00089fwd2.ttr\n",
      "-rwx------ 1 kmc3817 root  22M Jun 20 11:27 p14-SLAVES_DUMPCOMPARE-csref04125-iter00089fwd2.ttr\n",
      "-rwx------ 1 kmc3817 root  24M Jun 20 11:27 p14-SLAVES_DUMPCOMPARE-csref04178-iter00089fwd2.ttr\n",
      "-rwx------ 1 kmc3817 root  21M Jun 20 11:27 p14-SLAVES_DUMPCOMPARE-csref04104-iter00089fwd2.ttr\n",
      "-rwx------ 1 kmc3817 root  22M Jun 20 11:27 p14-SLAVES_DUMPCOMPARE-csref04112-iter00089fwd2.ttr\n",
      "-rwx------ 1 kmc3817 root  24M Jun 20 11:27 p14-SLAVES_DUMPCOMPARE-csref04105-iter00089fwd2.ttr\n",
      "-rwx------ 1 kmc3817 root  27M Jun 20 11:27 p14-SLAVES_DUMPCOMPARE-csref04139-iter00089fwd2.ttr\n",
      "-rwx------ 1 kmc3817 root  22M Jun 20 11:27 p14-SLAVES_DUMPCOMPARE-csref04109-iter00089fwd2.ttr\n",
      "-rwx------ 1 kmc3817 root  24M Jun 20 11:24 p14-SLAVES_DUMPCOMPARE-csref04178-iter00089fwd1.ttr\n",
      "-rwx------ 1 kmc3817 root  22M Jun 20 11:24 p14-SLAVES_DUMPCOMPARE-csref04112-iter00089fwd1.ttr\n",
      "-rwx------ 1 kmc3817 root  24M Jun 20 11:24 p14-SLAVES_DUMPCOMPARE-csref04105-iter00089fwd1.ttr\n",
      "-rwx------ 1 kmc3817 root  22M Jun 20 11:24 p14-SLAVES_DUMPCOMPARE-csref04176-iter00089fwd1.ttr\n",
      "-rwx------ 1 kmc3817 root  27M Jun 20 11:24 p14-SLAVES_DUMPCOMPARE-csref04139-iter00089fwd1.ttr\n",
      "-rwx------ 1 kmc3817 root  21M Jun 20 11:24 p14-SLAVES_DUMPCOMPARE-csref04104-iter00089fwd1.ttr\n",
      "-rwx------ 1 kmc3817 root  22M Jun 20 11:24 p14-SLAVES_DUMPCOMPARE-csref04125-iter00089fwd1.ttr\n",
      "-rwx------ 1 kmc3817 root  22M Jun 20 11:23 p14-SLAVES_DUMPCOMPARE-csref04109-iter00089fwd1.ttr\n",
      "-rwx------ 1 kmc3817 root  23M Jun 20 11:20 p14-SLAVES_DUMPCOMPARE-csref04124-iter00089fwd1.ttr\n",
      "-rwx------ 1 kmc3817 root  22M Jun 20 11:20 p14-SLAVES_DUMPCOMPARE-csref04138-iter00089fwd1.ttr\n",
      "-rwx------ 1 kmc3817 root  22M Jun 20 11:20 p14-SLAVES_DUMPCOMPARE-csref04157-iter00089fwd1.ttr\n",
      "-rwx------ 1 kmc3817 root  21M Jun 20 11:20 p14-SLAVES_DUMPCOMPARE-csref04110-iter00089fwd1.ttr\n",
      "-rwx------ 1 kmc3817 root  24M Jun 20 11:20 p14-SLAVES_DUMPCOMPARE-csref04177-iter00089fwd1.ttr\n",
      "-rwx------ 1 kmc3817 root  25M Jun 20 11:20 p14-SLAVES_DUMPCOMPARE-csref04158-iter00089fwd1.ttr\n",
      "-rwx------ 1 kmc3817 root  25M Jun 20 11:20 p14-SLAVES_DUMPCOMPARE-csref04123-iter00089fwd1.ttr\n",
      "-rwx------ 1 kmc3817 root  21M Jun 20 11:20 p14-SLAVES_DUMPCOMPARE-csref04137-iter00089fwd1.ttr\n",
      "-rwx------ 1 kmc3817 root  67M Jun 20 11:19 p14-CP00088-Vp.sgy\n",
      "-rwx------ 1 kmc3817 root 4.5K Jun 20 11:19 p14-CP00088-Runfile.key\n",
      "-rwx------ 1 kmc3817 root  22M Jun 20 11:19 p14-SLAVES_DUMPCOMPARE-csref04157-iter00088fwd2.ttr\n",
      "-rwx------ 1 kmc3817 root  23M Jun 20 11:18 p14-SLAVES_DUMPCOMPARE-csref04124-iter00088fwd2.ttr\n",
      "-rwx------ 1 kmc3817 root  22M Jun 20 11:18 p14-SLAVES_DUMPCOMPARE-csref04138-iter00088fwd2.ttr\n",
      "-rwx------ 1 kmc3817 root  21M Jun 20 11:18 p14-SLAVES_DUMPCOMPARE-csref04110-iter00088fwd2.ttr\n",
      "-rwx------ 1 kmc3817 root  25M Jun 20 11:18 p14-SLAVES_DUMPCOMPARE-csref04158-iter00088fwd2.ttr\n",
      "-rwx------ 1 kmc3817 root  24M Jun 20 11:18 p14-SLAVES_DUMPCOMPARE-csref04177-iter00088fwd2.ttr\n",
      "-rwx------ 1 kmc3817 root  25M Jun 20 11:18 p14-SLAVES_DUMPCOMPARE-csref04123-iter00088fwd2.ttr\n",
      "-rwx------ 1 kmc3817 root  21M Jun 20 11:18 p14-SLAVES_DUMPCOMPARE-csref04137-iter00088fwd2.ttr\n",
      "-rwx------ 1 kmc3817 root  21M Jun 20 11:17 p14-SLAVES_DUMPCOMPARE-csref04104-iter00088fwd2.ttr\n",
      "-rwx------ 1 kmc3817 root  22M Jun 20 11:17 p14-SLAVES_DUMPCOMPARE-csref04176-iter00088fwd2.ttr\n",
      "-rwx------ 1 kmc3817 root  22M Jun 20 11:17 p14-SLAVES_DUMPCOMPARE-csref04125-iter00088fwd2.ttr\n",
      "-rwx------ 1 kmc3817 root  24M Jun 20 11:17 p14-SLAVES_DUMPCOMPARE-csref04178-iter00088fwd2.ttr\n",
      "-rwx------ 1 kmc3817 root  27M Jun 20 11:17 p14-SLAVES_DUMPCOMPARE-csref04139-iter00088fwd2.ttr\n",
      "-rwx------ 1 kmc3817 root  24M Jun 20 11:17 p14-SLAVES_DUMPCOMPARE-csref04105-iter00088fwd2.ttr\n",
      "-rwx------ 1 kmc3817 root  22M Jun 20 11:17 p14-SLAVES_DUMPCOMPARE-csref04112-iter00088fwd2.ttr\n",
      "-rwx------ 1 kmc3817 root  22M Jun 20 11:17 p14-SLAVES_DUMPCOMPARE-csref04109-iter00088fwd2.ttr\n",
      "-rwx------ 1 kmc3817 root  24M Jun 20 11:13 p14-SLAVES_DUMPCOMPARE-csref04178-iter00088fwd1.ttr\n",
      "-rwx------ 1 kmc3817 root  22M Jun 20 11:13 p14-SLAVES_DUMPCOMPARE-csref04112-iter00088fwd1.ttr\n",
      "-rwx------ 1 kmc3817 root  24M Jun 20 11:13 p14-SLAVES_DUMPCOMPARE-csref04105-iter00088fwd1.ttr\n",
      "-rwx------ 1 kmc3817 root  22M Jun 20 11:13 p14-SLAVES_DUMPCOMPARE-csref04176-iter00088fwd1.ttr\n",
      "-rwx------ 1 kmc3817 root  21M Jun 20 11:13 p14-SLAVES_DUMPCOMPARE-csref04104-iter00088fwd1.ttr\n",
      "-rwx------ 1 kmc3817 root  27M Jun 20 11:13 p14-SLAVES_DUMPCOMPARE-csref04139-iter00088fwd1.ttr\n",
      "-rwx------ 1 kmc3817 root  22M Jun 20 11:13 p14-SLAVES_DUMPCOMPARE-csref04125-iter00088fwd1.ttr\n",
      "-rwx------ 1 kmc3817 root  22M Jun 20 11:13 p14-SLAVES_DUMPCOMPARE-csref04109-iter00088fwd1.ttr\n",
      "-rwx------ 1 kmc3817 root  23M Jun 20 11:10 p14-SLAVES_DUMPCOMPARE-csref04124-iter00088fwd1.ttr\n",
      "-rwx------ 1 kmc3817 root  22M Jun 20 11:10 p14-SLAVES_DUMPCOMPARE-csref04138-iter00088fwd1.ttr\n",
      "-rwx------ 1 kmc3817 root  22M Jun 20 11:10 p14-SLAVES_DUMPCOMPARE-csref04157-iter00088fwd1.ttr\n",
      "-rwx------ 1 kmc3817 root  21M Jun 20 11:10 p14-SLAVES_DUMPCOMPARE-csref04110-iter00088fwd1.ttr\n",
      "-rwx------ 1 kmc3817 root  24M Jun 20 11:10 p14-SLAVES_DUMPCOMPARE-csref04177-iter00088fwd1.ttr\n",
      "-rwx------ 1 kmc3817 root  25M Jun 20 11:10 p14-SLAVES_DUMPCOMPARE-csref04158-iter00088fwd1.ttr\n",
      "-rwx------ 1 kmc3817 root  25M Jun 20 11:10 p14-SLAVES_DUMPCOMPARE-csref04123-iter00088fwd1.ttr\n",
      "-rwx------ 1 kmc3817 root  21M Jun 20 11:10 p14-SLAVES_DUMPCOMPARE-csref04137-iter00088fwd1.ttr\n",
      "-rwx------ 1 kmc3817 root    0 Jun 20 11:08 p14-Err2.log\n",
      "-rwx------ 1 kmc3817 root 2.2K Jun 20 11:08 p14-JobInfo2.log\n",
      "-rwx------ 1 kmc3817 root 4.4K Jun 20 11:08 p14-Canonical-Runfile.key\n",
      "-rwx------ 1 kmc3817 root    0 Jun 20 11:08 fullwave3d-verbose-scheduler\n",
      "-rwx------ 1 kmc3817 root    0 Jun 20 11:08 fullwave3d-verbose-slave-3\n",
      "-rwx------ 1 kmc3817 root    0 Jun 20 11:08 fullwave3d-verbose-slave-2\n",
      "-rwx------ 1 kmc3817 root    0 Jun 20 11:08 fullwave3d-verbose-slave-1\n",
      "-rwx------ 1 kmc3817 root    0 Jun 20 11:07 fullwave3d-verbose-slave-4\n",
      "-rwx------ 1 kmc3817 root 1.9K Jun 20 11:06 p14-Run2.pbs\n",
      "-rwx------ 1 kmc3817 root  333 Jun 20 11:02 p14-JobOut0.log\n",
      "-rwx------ 1 kmc3817 root  471 Jun 20 11:02 p14-JobErr0.log\n",
      "-rwx------ 1 kmc3817 root 2.7K Jun 20 11:01 p14-Out0.log\n",
      "-rwx------ 1 kmc3817 root    0 Jun 20 11:01 p14-Err0.log\n",
      "-rwx------ 1 kmc3817 root 2.0K Jun 20 11:01 p14-JobInfo0.log\n",
      "-rwx------ 1 kmc3817 root 3.2K Jun 20 11:00 p14-Runfile.key\n",
      "-rwx------ 1 kmc3817 root 1.9K Jun 20 10:57 p14-Run0.pbs\n",
      "-rwx------ 1 kmc3817 root  39M Jun 20 10:46 p14-CP00087-Vp.vtr\n",
      "-rwx------ 1 kmc3817 root  67M Jun 20 10:46 p14-CP00087-Vp.sgy\n",
      "-rwx------ 1 kmc3817 root  39M Jun 20 10:46 p14-CP00087-Vp.mmp\n",
      "-rwx------ 1 kmc3817 root 4.9K Jun 20 10:46 p14-CP00087-Runfile.key\n",
      "-rwx------ 1 kmc3817 root  39M Jun 20 10:45 p14-CP00080-Vp.vtr\n",
      "-rwx------ 1 kmc3817 root  67M Jun 20 10:45 p14-CP00080-Vp.sgy\n",
      "-rwx------ 1 kmc3817 root  39M Jun 20 10:45 p14-CP00080-Vp.mmp\n",
      "-rwx------ 1 kmc3817 root 4.8K Jun 20 10:45 p14-CP00080-Runfile.key\n",
      "-rwx------ 1 kmc3817 root  39M Jun 20 10:44 p14-StartVp.vtr\n",
      "-rwx------ 1 kmc3817 root  67M Jun 20 10:44 p14-StartVp.sgy\n",
      "-rwx------ 1 kmc3817 root  39M Jun 20 10:44 p14-StartVp.mmp\n",
      "-rwx------ 1 kmc3817 root 1.1K Jun 20 10:44 p14-Sources.geo\n",
      "-rwx------ 1 kmc3817 root  998 Jun 20 10:44 p14-SourceSig-Time.log\n",
      "-rwx------ 1 kmc3817 root 2.4K Jun 20 10:44 p14-Skeleton.key\n",
      "-rwx------ 1 kmc3817 root 133K Jun 20 10:44 p14-Signature.sgy\n",
      "-rwx------ 1 kmc3817 root  408 Jun 20 10:44 p14-Signature.idx\n",
      "-rwx------ 1 kmc3817 root 1.2K Jun 20 10:44 p14-Signature.hed\n",
      "-rwx------ 1 kmc3817 root 2.2K Jun 20 10:44 p14-SegyPrep.log\n",
      "-rwx------ 1 kmc3817 root  399 Jun 20 10:44 p14-SegyPrep.key\n",
      "-rwx------ 1 kmc3817 root 1.7K Jun 20 10:44 p14-Run.pbs\n",
      "-rwx------ 1 kmc3817 root 8.1K Jun 20 10:44 p14-Retained-Sources.ps\n",
      "-rwx------ 1 kmc3817 root  51K Jun 20 10:44 p14-Retained-Receivers.ps\n",
      "-rwx------ 1 kmc3817 root  93K Jun 20 10:44 p14-Receivers.geo\n",
      "-rwx------ 1 kmc3817 root 7.9K Jun 20 10:44 p14-RawSign.vtr\n",
      "-rwx------ 1 kmc3817 root  12K Jun 20 10:44 p14-RawSign.sgy\n",
      "-rwx------ 1 kmc3817 root 7.9K Jun 20 10:44 p14-RawSign.mmp\n",
      "-rwx------ 1 kmc3817 root   26 Jun 20 10:44 p14-RawSeis.txt\n",
      "-rwx------ 1 kmc3817 root  12K Jun 20 10:44 p14-OutSign.sgy\n",
      "-rwx------ 1 kmc3817 root 3.6K Jun 20 10:44 p14-OutSeis.sgy\n",
      "-rwx------ 1 kmc3817 root 1.2M Jun 20 10:44 p14-Out.log\n",
      "-rwx------ 1 kmc3817 root 8.7M Jun 20 10:44 p14-Observed_windowed.vtr\n",
      "-rwx------ 1 kmc3817 root 8.9M Jun 20 10:44 p14-Observed_windowed.sgy\n",
      "-rwx------ 1 kmc3817 root 188K Jun 20 10:44 p14-Observed_windowed.mmp\n",
      "-rwx------ 1 kmc3817 root  76K Jun 20 10:44 p14-Observed_trid_INPUT.txt\n",
      "-rwx------ 1 kmc3817 root  76K Jun 20 10:44 p14-Observed_trid_INPUT.bin\n",
      "-rwx------ 1 kmc3817 root 152M Jun 20 10:44 p14-Observed_SP_INPUT.sgy\n",
      "-rwx------ 1 kmc3817 root 2.1M Jun 20 10:44 p14-Observed_HEAD.csv\n",
      "-rwx------ 1 kmc3817 root 123M Jun 20 10:44 p14-Observed_BACKUP.sgy\n",
      "-rwx------ 1 kmc3817 root 152M Jun 20 10:44 p14-Observed.sgy_bckp\n",
      "-rwx------ 1 kmc3817 root 123M Jun 20 10:44 p14-Observed.sgy\n",
      "-rwx------ 1 kmc3817 root 367K Jun 20 10:44 p14-Observed.idx\n",
      "-rwx------ 1 kmc3817 root 978K Jun 20 10:44 p14-Observed.hed\n",
      "-rwx------ 1 kmc3817 root 901K Jun 20 10:44 p14-Observed-Time.log\n",
      "-rwx------ 1 kmc3817 root 2.4K Jun 20 10:44 p14-Err.log\n",
      " \n"
     ]
    }
   ],
   "source": [
    "p14.o.ls()"
   ]
  },
  {
   "cell_type": "markdown",
   "metadata": {
    "hidden": true,
    "slideshow": {
     "slide_type": "skip"
    }
   },
   "source": [
    "#### Alg.\n",
    "Schedule jobs on the cx1 cluster."
   ]
  },
  {
   "cell_type": "code",
   "execution_count": 29,
   "metadata": {
    "collapsed": true,
    "hidden": true,
    "run_control": {
     "marked": false
    },
    "slideshow": {
     "slide_type": "skip"
    }
   },
   "outputs": [
    {
     "name": "stdout",
     "output_type": "stream",
     "text": [
      "INFO:fullwavepy.ioapi.clusters.cx1.PbsFileCx1._set_resources: Queue selected: pqmrwarn\n",
      "INFO:fullwavepy.ioapi.clusters.cx1.PbsFileCx1._find_optimal_resources: No. of shots in the runfile (ncomp): 16\n",
      "INFO:fullwavepy.ioapi.clusters.cx1.PbsFileCx1._find_optimal_resources: mpiprocs not specified. It will be chosen to maximize a decimal part of nshots / (mpiprocs-1) for a given select=\n",
      "INFO:fullwavepy.ioapi.clusters.cx1.PbsFileCx1._find_optimal_resources: Max. decimal place 0.9411764705882353 is for mpiprocs: 2 and ompthreads: 20\n",
      "INFO:fullwavepy.ioapi.clusters.cx1.PbsFileCx1._find_optimal_resources: There are mpiprocs value(s) that give integer: nshots / (mpiprocs-1)\n",
      "INFO:fullwavepy.ioapi.clusters.cx1.PbsFileCx1._find_optimal_resources: mpiprocs: 1, ompthreads: 40\n"
     ]
    },
    {
     "name": "stderr",
     "output_type": "stream",
     "text": [
      "WARNING:fullwavepy.ioapi.clusters.cx1.PbsFileCx1._find_optimal_resources: Choosing the largest mpiprocs\n",
      "WARNING:fullwavepy.ioapi.clusters.cx1.PbsFileCx1._write_mpiexec: Apparently after 1Feb2020 pbsexec (grace period) does not work (regardless of the queue)\n"
     ]
    },
    {
     "name": "stdout",
     "output_type": "stream",
     "text": [
      "Content of  /home/kmc3817/rds_home/my_ephemeral/PROJECTS/ch_kol//p14//inp/p14-Run2.pbs : \n",
      "#!/bin/bash\n",
      "\n",
      "##\n",
      "# FULLWAVE3D WILL BE RUN FROM proj/out/\n",
      "# For more explanation, see help(fullwavepy.project.files.runfiles.PbsFile).\n",
      "#\n",
      "##\n",
      "\n",
      "#PBS -N p14\n",
      "#PBS -o ../out/p14-JobOut2.log\n",
      "#PBS -e ../out/p14-JobErr2.log\n",
      "#PBS -l walltime=24:00:00\n",
      "#PBS -l select=9:mpiprocs=1:ompthreads=40:ncpus=40:mem=128gb\n",
      "#PBS -l place=scatter:excl\n",
      "\n",
      "start=`date +%s`\n",
      "\n",
      "    # PATHS\n",
      "    code_path=~/PhD/fullwave3D/rev690/bin/fullwave3D.exe\n",
      "    echo 'code_path: '${code_path}\n",
      "\n",
      "    work_dir=$PBS_O_WORKDIR/../out/ # $PBS_O_WORKDIR IS THE ONE CONTAINING THIS SCRIPT\n",
      "    \n",
      "    # CAVEAT  \n",
      "    rm $work_dir/p14-Runfile.key   \n",
      "    rm $work_dir/p14-Ghost.*\n",
      "\n",
      "\n",
      "    # HARD-LINK INPUT FILES TO OUTPUT DIR WHERE THE CODE WILL RUN\n",
      "    ln $PBS_O_WORKDIR/* $work_dir\n",
      "    \n",
      "    # CHANGE DIRECTORY TO PROJECT OUTPUT\n",
      "    cd $work_dir\n",
      "    \n",
      "    \n",
      "# DISABLE PINNING OF THE PROCESSES (MAKE ALL NODE CORES AVAILABLE TO ALL PROCESSES)\n",
      "unset NCPUS\n",
      "export I_MPI_PIN=no # (DOES NOT WORK IF RUNNING ON A WHOLE NODE) \n",
      "\n",
      "# ARGUMENTS OF fullwave3D.exe\n",
      "CPNUM=-1\n",
      "NTHREAD=40 # EQUAL TO ompthreads\n",
      "\n",
      "# FULLWAVE'S ENVIRONMENT VARIABLES\n",
      "export SCHEDULER_ERRSTREAM=stderr\n",
      "export SCHEDULER_SHOWLEVEL=2\n",
      "export SCHEDULER_SHOWTIMESTAMP=yes\n",
      "export SCHEDULER_SLAVESHAVEDATA=yes\n",
      "export SCHEDULER_SLAVESHAVEMODEL=yes\n",
      "export SLAVES_DUMPCOMPARE=p14-SLAVES_DUMPCOMPARE\n",
      "export SLAVES_ERRSTREAM=stderr\n",
      "export SLAVES_LOCALSTORE=$work_dir\n",
      "export SLAVES_LOCALSTORETRIGGER=40\n",
      "export SLAVES_SHOWLEVEL=2\n",
      "export SLAVES_SHOWTIMESTAMP=yes\n",
      "\n",
      "# LOAD MODULES\n",
      "module unload mpi/intel-2019 \n",
      "module load mpi/intel-2018\n",
      "module load intel-suite\n",
      "\n",
      "#\n",
      "# INVERSION-RUN FLOW\n",
      "#\n",
      "\n",
      "# RUN FULLWAVE \n",
      "mpiexec ${code_path} p14 ${CPNUM} ${NTHREAD} 1>> $work_dir/p14-Out2.log 2>> $work_dir/p14-Err2.log\n",
      "\n",
      "stat=$?\n",
      "echo \"Exit status: \"$stat\n",
      "for f in fw*iter*vtr bw*iter*vtr\n",
      "do\n",
      "  mv $f p14-$f\n",
      "done\n",
      "\n",
      "end=`date +%s` \n",
      "runtime=$((end-start))\n",
      "\n",
      "echo 'Runtime of the PBS script: '$runtime' s' \n",
      " \n"
     ]
    }
   ],
   "source": [
    "lll(20)\n",
    "# p14.i.pbs.no[0].prep(q='debug')\n",
    "p14.i.pbs.no[2].prep(select=9, hours=24)\n",
    "# p14.i.pbs.no[3].prep(select=9, hours=4) # about 5 iters / hour\n",
    "# p14.i.pbs.no[4].prep(select=5, hours=10)\n",
    "# p14.i.pbs.no[5].prep(select=9, hours=10)"
   ]
  },
  {
   "cell_type": "markdown",
   "metadata": {
    "heading_collapsed": true,
    "slideshow": {
     "slide_type": "slide"
    }
   },
   "source": [
    "# ..."
   ]
  }
 ],
 "metadata": {
  "kernelspec": {
   "display_name": "Python 3",
   "language": "python",
   "name": "python3"
  },
  "language_info": {
   "codemirror_mode": {
    "name": "ipython",
    "version": 3
   },
   "file_extension": ".py",
   "mimetype": "text/x-python",
   "name": "python",
   "nbconvert_exporter": "python",
   "pygments_lexer": "ipython3",
   "version": "3.5.2"
  },
  "latex_envs": {
   "LaTeX_envs_menu_present": true,
   "autoclose": false,
   "autocomplete": true,
   "bibliofile": "biblio.bib",
   "cite_by": "apalike",
   "current_citInitial": 1,
   "eqLabelWithNumbers": true,
   "eqNumInitial": 1,
   "hotkeys": {
    "equation": "Ctrl-E",
    "itemize": "Ctrl-I"
   },
   "labels_anchors": false,
   "latex_user_defs": false,
   "report_style_numbering": false,
   "user_envs_cfg": false
  },
  "toc": {
   "base_numbering": 1,
   "nav_menu": {},
   "number_sections": false,
   "sideBar": false,
   "skip_h1_title": false,
   "title_cell": "Table of Contents",
   "title_sidebar": "Contents",
   "toc_cell": false,
   "toc_position": {},
   "toc_section_display": true,
   "toc_window_display": false
  }
 },
 "nbformat": 4,
 "nbformat_minor": 2
}
