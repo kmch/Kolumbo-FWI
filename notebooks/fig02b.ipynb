{
 "cells": [
  {
   "cell_type": "markdown",
   "id": "44c2fa56",
   "metadata": {},
   "source": [
    "Data misfit in time-domain."
   ]
  },
  {
   "cell_type": "markdown",
   "id": "24ebfad1",
   "metadata": {
    "slideshow": {
     "slide_type": "skip"
    }
   },
   "source": [
    "#### Notebook config"
   ]
  },
  {
   "cell_type": "raw",
   "id": "01933f52",
   "metadata": {
    "run_control": {
     "marked": true
    }
   },
   "source": [
    "%load_ext autoreload"
   ]
  },
  {
   "cell_type": "code",
   "execution_count": 10,
   "id": "e6b94436",
   "metadata": {
    "run_control": {
     "marked": true
    }
   },
   "outputs": [],
   "source": [
    "%autoreload 2"
   ]
  },
  {
   "cell_type": "code",
   "execution_count": 14,
   "id": "efeeed57",
   "metadata": {
    "run_control": {
     "marked": true
    }
   },
   "outputs": [
    {
     "name": "stdout",
     "output_type": "stream",
     "text": [
      "/home/kajetan/software/Kolumbo-FWI/fwipy/__init__.py\n"
     ]
    }
   ],
   "source": [
    "import fwipy \n",
    "print(fwipy.__file__)\n",
    "from fwipy import *\n",
    "from fwipy.config.logging import *\n",
    "lll(40)\n",
    "from fwipy.ioapi.segy import SgyFile\n"
   ]
  },
  {
   "cell_type": "markdown",
   "id": "ec4eae62",
   "metadata": {
    "slideshow": {
     "slide_type": "skip"
    }
   },
   "source": [
    "#### Notebook config"
   ]
  },
  {
   "cell_type": "code",
   "execution_count": null,
   "id": "d903b422",
   "metadata": {},
   "outputs": [],
   "source": []
  }
 ],
 "metadata": {
  "kernelspec": {
   "display_name": "Python 3",
   "language": "python",
   "name": "python3"
  },
  "language_info": {
   "codemirror_mode": {
    "name": "ipython",
    "version": 3
   },
   "file_extension": ".py",
   "mimetype": "text/x-python",
   "name": "python",
   "nbconvert_exporter": "python",
   "pygments_lexer": "ipython3",
   "version": "3.9.7"
  }
 },
 "nbformat": 4,
 "nbformat_minor": 5
}
