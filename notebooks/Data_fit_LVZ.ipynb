{
 "cells": [
  {
   "cell_type": "markdown",
   "id": "24ebfad1",
   "metadata": {
    "heading_collapsed": true,
    "slideshow": {
     "slide_type": "skip"
    }
   },
   "source": [
    "#### Notebook config"
   ]
  },
  {
   "cell_type": "code",
   "execution_count": 5,
   "id": "3e05c1e8",
   "metadata": {
    "hidden": true,
    "run_control": {
     "marked": true
    }
   },
   "outputs": [
    {
     "name": "stdout",
     "output_type": "stream",
     "text": [
      "The autoreload extension is already loaded. To reload it, use:\n",
      "  %reload_ext autoreload\n"
     ]
    }
   ],
   "source": [
    "%load_ext autoreload"
   ]
  },
  {
   "cell_type": "code",
   "execution_count": 6,
   "id": "e6b94436",
   "metadata": {
    "hidden": true,
    "run_control": {
     "marked": true
    }
   },
   "outputs": [],
   "source": [
    "%autoreload 2"
   ]
  },
  {
   "cell_type": "code",
   "execution_count": 7,
   "id": "efeeed57",
   "metadata": {
    "hidden": true,
    "run_control": {
     "marked": true
    }
   },
   "outputs": [
    {
     "name": "stdout",
     "output_type": "stream",
     "text": [
      "/home/kajetan/software/Kolumbo-FWI/fwipy/__init__.py\n"
     ]
    }
   ],
   "source": [
    "import fwipy \n",
    "print(fwipy.__file__)\n",
    "from fwipy import *\n",
    "from fwipy.config.logging import *\n",
    "lll(40)\n",
    "from fwipy.ioapi.segy import SgyFile\n",
    "plt.style.reload_library()\n",
    "plt.style.use(['default', 'paper2022kolumbo'])"
   ]
  },
  {
   "cell_type": "markdown",
   "id": "0468db5a",
   "metadata": {
    "heading_collapsed": true,
    "slideshow": {
     "slide_type": "skip"
    }
   },
   "source": [
    "# Initalise data"
   ]
  },
  {
   "cell_type": "code",
   "execution_count": 9,
   "id": "d93b87da",
   "metadata": {
    "hidden": true
   },
   "outputs": [],
   "source": [
    "data_path = '../data/'\n",
    "# sgyobs = SgyFile('data_kolumbo_PhD_all_traces_field_fltrd.sgy', data_path)\n",
    "# sgy000 = SgyFile('data_kolumbo_PhD_all_traces_synth_it000.sgy', data_path)\n",
    "# sgylvz = SgyFile('method_s01_800_50-Synthetic.sgy', data_path)\n",
    "# sgy020 = SgyFile('data_kolumbo_PhD_all_traces_synth_it020.sgy', data_path)\n",
    "# sgy080 = SgyFile('data_kolumbo_PhD_all_traces_synth_it080.sgy', data_path)\n",
    "# sgy160 = SgyFile('data_kolumbo_PhD_all_traces_synth_it160.sgy', data_path)\n",
    "sgyobsm = SgyFile('data_kolumbo_PhD_all_traces_field_fltrd_muted.sgy', data_path)\n",
    "sgy000m = SgyFile('data_kolumbo_PhD_all_traces_synth_it000_muted.sgy', data_path)\n",
    "# sgy020m = SgyFile('data_kolumbo_PhD_all_traces_synth_it020_muted.sgy', data_path)\n",
    "# sgy080m = SgyFile('data_kolumbo_PhD_all_traces_synth_it080_muted.sgy', data_path)\n",
    "sgy160m = SgyFile('data_kolumbo_PhD_all_traces_synth_it160_muted.sgy', data_path)\n",
    "sgylvzm = SgyFile('method_s01_800_50-Synthetic_muted.sgy', data_path)"
   ]
  },
  {
   "cell_type": "code",
   "execution_count": 12,
   "id": "1215ca35",
   "metadata": {
    "code_folding": [
     0
    ],
    "hidden": true
   },
   "outputs": [],
   "source": [
    "# read bathymetry and final model \n",
    "from arrau.a2d import Arr2d\n",
    "xp = PROTEUS()\n",
    "xp.read_all()\n",
    "b01 = Box3d(8,25, -3,15, 0,4)\n",
    "bt = Arr2d(xp.read_bathy_topo().extract(np.array(b01.xy)*1e3).arr/1e3, extent=b01.xy)\n",
    "from fwipy.ndat.arrays import Arr3d\n",
    "vp = Arr3d(source='../data/p14-CP00160-Vp.mmp', shape=(341,361,81), extent=b01.extent)\n",
    "from arrau.a3d import Arr3d\n",
    "vp = Arr3d(vp / 1000, extent=b01.extent)\n",
    "sl = vp.slice(value=2.55, axis=2, unit='km')"
   ]
  },
  {
   "cell_type": "markdown",
   "id": "a4efce30",
   "metadata": {
    "slideshow": {
     "slide_type": "skip"
    }
   },
   "source": [
    "# Define plotters"
   ]
  },
  {
   "cell_type": "code",
   "execution_count": 10,
   "id": "5cec1eb3",
   "metadata": {
    "code_folding": [
     1,
     7,
     32
    ],
    "run_control": {
     "marked": false
    }
   },
   "outputs": [],
   "source": [
    "from fwipy.utils import *\n",
    "sgydict = {'obsm': {'name': 'field', 'file': sgyobsm},\n",
    "           'lvzm': {'name': 'synth_start_LVZ', 'file': sgylvzm},\n",
    "           '000m': {'name': 'synth_start', 'file': sgy000m},\n",
    "           '160m': {'name': 'synth_final', 'file': sgy160m},\n",
    "          }\n",
    "pairs = [['lvzm', '000m'], ['obsm', '000m'], ['obsm', '160m']]\n",
    "def plot_model_etc(sgyfile, tracf, ep, cmap='viridis_r'):\n",
    "    sl.plot(mode='im', cmap=cmap, vmin=3.4, vmax=5,\n",
    "            colors='Grey', linestyles='solid', levels=np.arange(3.5,5.6,0.5),\n",
    "            show_cntr_labels=True, fontsize=8, fmt='%1.1f',\n",
    "            orientation='horizontal', position='bottom', pad=.7, label='P-wave velocity (km/s)')\n",
    "    bt.plot(mode='contour', aspect='equal', colors='k')  \n",
    "\n",
    "    srcs_x, srcs_y, recs_x, recs_y = read_geom(sgyfile, tracf, divide_by=1000)\n",
    "    x1, x2, y1, y2 = read_geom_bounds(sgyfile, divide_by=1000, pady=600)\n",
    "    shotcolor='k'\n",
    "    bt.plot(mode='contour', aspect='equal', colors='w')   \n",
    "    plt.plot(srcs_x, srcs_y, linestyle='', marker='.', label='shot',\n",
    "                 markersize=1, markerfacecolor=shotcolor, markeredgecolor=shotcolor)\n",
    "    plt.plot(recs_x, recs_y, marker='o', linestyle='', markersize=5, \n",
    "                       markeredgecolor='k', markeredgewidth=1, markerfacecolor='b')\n",
    "    for x, y in zip(recs_x, recs_y):\n",
    "        plt.gca().annotate(text=str(tracf), xy=(x,y), xytext=(x, y+0.5), clip_on=True, fontsize=8,\n",
    "                            bbox={'facecolor': 'w', 'edgecolor': 'k', 'alpha': .5})   \n",
    "    circ = plt.Circle((recs_x[0],recs_y[0]), 5, color='Grey', alpha=.5)\n",
    "    plt.gca().add_patch(circ)\n",
    "    plot_box_around_line(sgyfile, tracf, ep, divide_by=1000, padx=0, pady=200)\n",
    "    plt.xlim(x1, x2)\n",
    "    plt.ylim(y1, y2)\n",
    "    plt.xlabel('X (km)')\n",
    "    plt.ylabel('Y (km)')\n",
    "def plot_all(sgydict, sgyid1, sgyid2, tracf, ep, save, cmap='cmo.rain_r',\n",
    "             ins_xlim=[14e3, 18e3], ins_ylim=[1,3], \n",
    "             ins_pos=[0.25,1], ins_size=[.5, .5], # both in % of parent axes\n",
    "            ):\n",
    "    from matplotlib.gridspec import GridSpec\n",
    "    file1 = sgydict[sgyid1]['file']\n",
    "    file2 = sgydict[sgyid2]['file']\n",
    "    label1 = sgydict[sgyid1]['name']\n",
    "    label2 = sgydict[sgyid2]['name']\n",
    "    fig = plt.figure(figsize=(10,16))\n",
    "    gs = GridSpec(2, 1, height_ratios=[1,4])\n",
    "    # data\n",
    "    ax1 = fig.add_subplot(gs[0,0])\n",
    "    kws = dict(ow=0, norm='rms', amplify=10, ax=ax1, vel_red=5000,\n",
    "               tmin=1, tmax=3)\n",
    "    ax1 = plot_data_wigg(file1, tracf, ep, label=label1, color='r', **kws)\n",
    "    ax1 = plot_data_wigg(file2, tracf, ep, label=label2, color='k', **kws)\n",
    "    ax1.invert_yaxis()\n",
    "    plt.legend(loc='lower left')\n",
    "    # inset \n",
    "    axins = ax1.inset_axes(ins_pos + ins_size)\n",
    "    plot_data_wigg(file1, tracf, ep, label=label1, color='r', **dict(kws, ax=axins))\n",
    "    plot_data_wigg(file2, tracf, ep, label=label2, color='k', **dict(kws, ax=axins))\n",
    "    # sub region of the original image\n",
    "    axins.set_xlim(ins_xlim)\n",
    "    axins.set_ylim(ins_ylim)\n",
    "    axins.set_xlabel('')\n",
    "    axins.set_ylabel('')    \n",
    "    axins.set_xticks([])\n",
    "    axins.set_yticks([])\n",
    "    axins.set_xticklabels([])\n",
    "    axins.set_yticklabels([])\n",
    "    axins.invert_yaxis()\n",
    "    _ = ax1.indicate_inset_zoom(axins, edgecolor=\"k\", lw=2)    \n",
    "    \n",
    "    # model etc. \n",
    "    ax2 = fig.add_subplot(gs[1,0])\n",
    "    plot_model_etc(sgydict[sgyid1]['file'], tracf=tracf, ep=ep, cmap=cmap)\n",
    "    plt.tight_layout()\n",
    "    if save:\n",
    "        add = 'ins_'\n",
    "        plt.savefig('figures/suppl/fit_%sOBS%s_line%s_%s_vs_%s.png' % (add, tracf, \n",
    "                                                                  str(ep).rjust(3, '0'), \n",
    "                                                                  label1, \n",
    "                                                                  label2),\n",
    "                    dpi=300)\n",
    "        plt.close()\n",
    "plt.rcParams.update({'font.size': 14})\n",
    "# plot_all(sgydict, 'obsm', '160m', tracf=4105, ep=30, save=0, ins_size=[.5, .5],\n",
    "#          ins_xlim=[17e3, 20e3], ins_ylim=[1.25, 2.35], ins_pos=[.25,-0.75])"
   ]
  },
  {
   "cell_type": "markdown",
   "id": "0c0b5196",
   "metadata": {
    "heading_collapsed": true
   },
   "source": [
    "# OBS 112, line 30"
   ]
  },
  {
   "cell_type": "code",
   "execution_count": 74,
   "id": "273e04b9",
   "metadata": {
    "hidden": true
   },
   "outputs": [
    {
     "name": "stdout",
     "output_type": "stream",
     "text": [
      "CPU times: user 19.8 s, sys: 567 ms, total: 20.4 s\n",
      "Wall time: 24.5 s\n"
     ]
    }
   ],
   "source": [
    "%%time \n",
    "for pair in pairs:\n",
    "    plot_all(sgydict, *pair, tracf=4112, ep=30, save=1, ins_size=[.5, .5],\n",
    "         ins_xlim=[16e3, 20e3], ins_ylim=[1.25, 2.35], ins_pos=[.25,-0.75])"
   ]
  },
  {
   "cell_type": "markdown",
   "id": "ff53b6be",
   "metadata": {},
   "source": [
    "# OBS 110, line 7"
   ]
  },
  {
   "cell_type": "code",
   "execution_count": 9,
   "id": "dd81fb2a",
   "metadata": {},
   "outputs": [],
   "source": [
    "bounds = read_geom_bounds(sgy000m, 1000)"
   ]
  },
  {
   "cell_type": "code",
   "execution_count": 10,
   "id": "d3ffeb57",
   "metadata": {},
   "outputs": [
    {
     "data": {
      "text/plain": [
       "(8.051, 24.996, -2.126, 13.847)"
      ]
     },
     "execution_count": 10,
     "metadata": {},
     "output_type": "execute_result"
    }
   ],
   "source": [
    "bounds"
   ]
  },
  {
   "cell_type": "code",
   "execution_count": 13,
   "id": "2e909cb2",
   "metadata": {},
   "outputs": [
    {
     "name": "stdout",
     "output_type": "stream",
     "text": [
      "CPU times: user 22.5 s, sys: 921 ms, total: 23.4 s\n",
      "Wall time: 36.1 s\n"
     ]
    }
   ],
   "source": [
    "%%time \n",
    "for pair in pairs:\n",
    "    plot_all(sgydict, *pair, tracf=4110, ep=7, save=1, ins_size=[.5, .5],\n",
    "         ins_xlim=[8051, 13e3], ins_ylim=[1.25, 2.35], ins_pos=[.25,-0.75])"
   ]
  },
  {
   "cell_type": "markdown",
   "id": "8dfc2dee",
   "metadata": {},
   "source": [
    "# OBS 137, line 31"
   ]
  },
  {
   "cell_type": "code",
   "execution_count": 15,
   "id": "2356a95c",
   "metadata": {},
   "outputs": [
    {
     "name": "stdout",
     "output_type": "stream",
     "text": [
      "CPU times: user 20.1 s, sys: 628 ms, total: 20.7 s\n",
      "Wall time: 29 s\n"
     ]
    }
   ],
   "source": [
    "%%time \n",
    "for pair in pairs:\n",
    "    plot_all(sgydict, *pair, tracf=4137, ep=31, save=1, ins_size=[.5, .5],\n",
    "         ins_xlim=[8051, 13e3], ins_ylim=[1.1, 2.2], ins_pos=[.25,-0.75])"
   ]
  },
  {
   "cell_type": "markdown",
   "id": "65b0a93b",
   "metadata": {},
   "source": [
    "# All well-fitted"
   ]
  },
  {
   "cell_type": "code",
   "execution_count": 8,
   "id": "daea57cd",
   "metadata": {
    "run_control": {
     "marked": true
    }
   },
   "outputs": [],
   "source": [
    "# %%time \n",
    "te = {112: [30,27], 110: [7], 105: [27,26,9], 138: [5,6,31], 137:[31], \n",
    "      139:[38,37,31,6], 125: [30,5], 124:[37], 123:[27,6]}"
   ]
  },
  {
   "cell_type": "code",
   "execution_count": 14,
   "id": "94a14fd8",
   "metadata": {},
   "outputs": [],
   "source": [
    "good = {\n",
    "    139: {\n",
    "            38:  {'xlim': [12e3, 17e3], 'ylim': [1.5, 2.5]},\n",
    "            37:  {'xlim': [14e3, 24e3], 'ylim': None},\n",
    "            31:  {'xlim': [14e3, 23e3], 'ylim': None},\n",
    "            6:   {'xlim': [13e3, 24e3], 'ylim': None},\n",
    "        },\n",
    "    138: {\n",
    "            31:  {'xlim': [10e3, 14e3], 'ylim': None},\n",
    "            6:   {'xlim': [10e3, 14e3], 'ylim': None},\n",
    "            5:   {'xlim': [10e3, 14e3], 'ylim': None},\n",
    "        },    \n",
    "    137: {\n",
    "            31:  {'xlim': [9e3, 14e3], 'ylim': [1.1, 2.2]},\n",
    "        },        \n",
    "    125: {\n",
    "            30:  {'xlim': [15e3, 19e3], 'ylim': [1.5, 2.5]},\n",
    "            5:   {'xlim': [16e3, 21e3], 'ylim': None},\n",
    "        },    \n",
    "    124: {\n",
    "            37:   {'xlim': [8051, 13e3], 'ylim': None},\n",
    "        },   \n",
    "    123: {\n",
    "            37:   {'xlim': [8051, 13e3], 'ylim': None},\n",
    "            6:   {'xlim': [8051, 13e3], 'ylim': None},\n",
    "        },  \n",
    "    112: {\n",
    "            30:   {'xlim': None, 'ylim': None},\n",
    "            27:   {'xlim': None, 'ylim': None},\n",
    "        },  \n",
    "    110: {\n",
    "            7:   {'xlim': None, 'ylim': None},\n",
    "        },  \n",
    "    105: {\n",
    "            27:  {'xlim': [12e3, 16e3], 'ylim': [1.5, 2.5]},\n",
    "            26:  {'xlim': [12e3, 16e3], 'ylim': None},\n",
    "            9:   {'xlim': [11e3, 17e3], 'ylim': None},\n",
    "        },      \n",
    "}"
   ]
  },
  {
   "cell_type": "code",
   "execution_count": 22,
   "id": "afbb476d",
   "metadata": {},
   "outputs": [
    {
     "name": "stdout",
     "output_type": "stream",
     "text": [
      "CPU times: user 6min 24s, sys: 26.4 s, total: 6min 50s\n",
      "Wall time: 10min\n"
     ]
    }
   ],
   "source": [
    "%%time \n",
    "for tracf, lines in good.items():\n",
    "    for ep, lims in lines.items():\n",
    "        xlim = [16e3, 20e3] if lims['xlim'] is None else lims['xlim']\n",
    "        ylim = [1.25, 2.5] if lims['ylim'] is None else lims['ylim']\n",
    "        for pair in pairs:\n",
    "            plot_all(sgydict, *pair, tracf=4000+tracf, ep=ep, save=1, ins_size=[.5, .5],\n",
    "                 ins_xlim=xlim, ins_ylim=ylim, ins_pos=[.25,-0.75])"
   ]
  },
  {
   "cell_type": "markdown",
   "id": "f27501ca",
   "metadata": {
    "slideshow": {
     "slide_type": "skip"
    }
   },
   "source": [
    "# ..."
   ]
  }
 ],
 "metadata": {
  "kernelspec": {
   "display_name": "Python 3",
   "language": "python",
   "name": "python3"
  },
  "language_info": {
   "codemirror_mode": {
    "name": "ipython",
    "version": 3
   },
   "file_extension": ".py",
   "mimetype": "text/x-python",
   "name": "python",
   "nbconvert_exporter": "python",
   "pygments_lexer": "ipython3",
   "version": "3.9.7"
  }
 },
 "nbformat": 4,
 "nbformat_minor": 5
}
